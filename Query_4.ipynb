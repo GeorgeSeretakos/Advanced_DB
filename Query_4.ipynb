{
 "cells": [
  {
   "cell_type": "code",
   "execution_count": 1,
   "id": "e72dc983-af37-485d-b609-8a1ae8630b86",
   "metadata": {
    "tags": []
   },
   "outputs": [
    {
     "name": "stdout",
     "output_type": "stream",
     "text": [
      "Starting Spark application\n"
     ]
    },
    {
     "data": {
      "text/html": [
       "<table>\n",
       "<tr><th>ID</th><th>YARN Application ID</th><th>Kind</th><th>State</th><th>Spark UI</th><th>Driver log</th><th>User</th><th>Current session?</th></tr><tr><td>234</td><td>application_1738075734771_0235</td><td>pyspark</td><td>idle</td><td><a target=\"_blank\" href=\"http://ip-192-168-1-12.eu-central-1.compute.internal:20888/proxy/application_1738075734771_0235/\">Link</a></td><td><a target=\"_blank\" href=\"http://ip-192-168-1-139.eu-central-1.compute.internal:8042/node/containerlogs/container_1738075734771_0235_01_000001/livy\">Link</a></td><td>None</td><td>✔</td></tr></table>"
      ],
      "text/plain": [
       "<IPython.core.display.HTML object>"
      ]
     },
     "metadata": {},
     "output_type": "display_data"
    },
    {
     "data": {
      "application/vnd.jupyter.widget-view+json": {
       "model_id": "",
       "version_major": 2,
       "version_minor": 0
      },
      "text/plain": [
       "FloatProgress(value=0.0, bar_style='info', description='Progress:', layout=Layout(height='25px', width='50%'),…"
      ]
     },
     "metadata": {},
     "output_type": "display_data"
    },
    {
     "name": "stdout",
     "output_type": "stream",
     "text": [
      "SparkSession available as 'spark'.\n"
     ]
    },
    {
     "data": {
      "application/vnd.jupyter.widget-view+json": {
       "model_id": "",
       "version_major": 2,
       "version_minor": 0
      },
      "text/plain": [
       "FloatProgress(value=0.0, bar_style='info', description='Progress:', layout=Layout(height='25px', width='50%'),…"
      ]
     },
     "metadata": {},
     "output_type": "display_data"
    }
   ],
   "source": [
    "from pyspark.sql import SparkSession\n",
    "\n",
    "spark = SparkSession \\\n",
    "    .builder \\\n",
    "    .appName(\"Query 4\") \\\n",
    "    .getOrCreate()"
   ]
  },
  {
   "cell_type": "markdown",
   "id": "7ed40df4-ef54-4369-aab2-a7ebfb2f4418",
   "metadata": {
    "tags": []
   },
   "source": [
    "#### Case 1: 2 Executors × 1 Core/2GB Memory"
   ]
  },
  {
   "cell_type": "code",
   "execution_count": 2,
   "id": "e57be602-a442-4b57-a423-8b6e3b8ca597",
   "metadata": {
    "tags": []
   },
   "outputs": [
    {
     "name": "stdout",
     "output_type": "stream",
     "text": [
      "Starting Spark application\n"
     ]
    },
    {
     "data": {
      "text/html": [
       "<table>\n",
       "<tr><th>ID</th><th>YARN Application ID</th><th>Kind</th><th>State</th><th>Spark UI</th><th>Driver log</th><th>User</th><th>Current session?</th></tr><tr><td>235</td><td>application_1738075734771_0236</td><td>pyspark</td><td>idle</td><td><a target=\"_blank\" href=\"http://ip-192-168-1-12.eu-central-1.compute.internal:20888/proxy/application_1738075734771_0236/\">Link</a></td><td><a target=\"_blank\" href=\"http://ip-192-168-1-245.eu-central-1.compute.internal:8042/node/containerlogs/container_1738075734771_0236_01_000001/livy\">Link</a></td><td>None</td><td>✔</td></tr></table>"
      ],
      "text/plain": [
       "<IPython.core.display.HTML object>"
      ]
     },
     "metadata": {},
     "output_type": "display_data"
    },
    {
     "data": {
      "application/vnd.jupyter.widget-view+json": {
       "model_id": "",
       "version_major": 2,
       "version_minor": 0
      },
      "text/plain": [
       "FloatProgress(value=0.0, bar_style='info', description='Progress:', layout=Layout(height='25px', width='50%'),…"
      ]
     },
     "metadata": {},
     "output_type": "display_data"
    },
    {
     "name": "stdout",
     "output_type": "stream",
     "text": [
      "SparkSession available as 'spark'.\n"
     ]
    },
    {
     "data": {
      "text/html": [
       "Current session configs: <tt>{'conf': {'spark.sql.catalog.spark_catalog.type': 'hive', 'spark.executor.instances': '2', 'spark.executor.cores': '1', 'spark.executor.memory': '2g'}, 'kind': 'pyspark'}</tt><br>"
      ],
      "text/plain": [
       "<IPython.core.display.HTML object>"
      ]
     },
     "metadata": {},
     "output_type": "display_data"
    },
    {
     "data": {
      "text/html": [
       "<table>\n",
       "<tr><th>ID</th><th>YARN Application ID</th><th>Kind</th><th>State</th><th>Spark UI</th><th>Driver log</th><th>User</th><th>Current session?</th></tr><tr><td>145</td><td>application_1738075734771_0146</td><td>pyspark</td><td>idle</td><td><a target=\"_blank\" href=\"http://ip-192-168-1-12.eu-central-1.compute.internal:20888/proxy/application_1738075734771_0146/\">Link</a></td><td><a target=\"_blank\" href=\"http://ip-192-168-1-139.eu-central-1.compute.internal:8042/node/containerlogs/container_1738075734771_0146_01_000002/livy\">Link</a></td><td>None</td><td></td></tr><tr><td>148</td><td>application_1738075734771_0149</td><td>pyspark</td><td>idle</td><td><a target=\"_blank\" href=\"http://ip-192-168-1-12.eu-central-1.compute.internal:20888/proxy/application_1738075734771_0149/\">Link</a></td><td><a target=\"_blank\" href=\"http://ip-192-168-1-137.eu-central-1.compute.internal:8042/node/containerlogs/container_1738075734771_0149_01_000002/livy\">Link</a></td><td>None</td><td></td></tr><tr><td>155</td><td>application_1738075734771_0156</td><td>pyspark</td><td>idle</td><td><a target=\"_blank\" href=\"http://ip-192-168-1-12.eu-central-1.compute.internal:20888/proxy/application_1738075734771_0156/\">Link</a></td><td><a target=\"_blank\" href=\"http://ip-192-168-1-32.eu-central-1.compute.internal:8042/node/containerlogs/container_1738075734771_0156_01_000002/livy\">Link</a></td><td>None</td><td></td></tr><tr><td>156</td><td>application_1738075734771_0157</td><td>pyspark</td><td>idle</td><td><a target=\"_blank\" href=\"http://ip-192-168-1-12.eu-central-1.compute.internal:20888/proxy/application_1738075734771_0157/\">Link</a></td><td><a target=\"_blank\" href=\"http://ip-192-168-1-72.eu-central-1.compute.internal:8042/node/containerlogs/container_1738075734771_0157_01_000003/livy\">Link</a></td><td>None</td><td></td></tr><tr><td>161</td><td>application_1738075734771_0162</td><td>pyspark</td><td>idle</td><td><a target=\"_blank\" href=\"http://ip-192-168-1-12.eu-central-1.compute.internal:20888/proxy/application_1738075734771_0162/\">Link</a></td><td><a target=\"_blank\" href=\"http://ip-192-168-1-75.eu-central-1.compute.internal:8042/node/containerlogs/container_1738075734771_0162_01_000002/livy\">Link</a></td><td>None</td><td></td></tr><tr><td>165</td><td>application_1738075734771_0166</td><td>pyspark</td><td>idle</td><td><a target=\"_blank\" href=\"http://ip-192-168-1-12.eu-central-1.compute.internal:20888/proxy/application_1738075734771_0166/\">Link</a></td><td><a target=\"_blank\" href=\"http://ip-192-168-1-139.eu-central-1.compute.internal:8042/node/containerlogs/container_1738075734771_0166_01_000002/livy\">Link</a></td><td>None</td><td></td></tr><tr><td>170</td><td>application_1738075734771_0171</td><td>pyspark</td><td>idle</td><td><a target=\"_blank\" href=\"http://ip-192-168-1-12.eu-central-1.compute.internal:20888/proxy/application_1738075734771_0171/\">Link</a></td><td><a target=\"_blank\" href=\"http://ip-192-168-1-139.eu-central-1.compute.internal:8042/node/containerlogs/container_1738075734771_0171_01_000002/livy\">Link</a></td><td>None</td><td></td></tr><tr><td>171</td><td>application_1738075734771_0172</td><td>pyspark</td><td>idle</td><td><a target=\"_blank\" href=\"http://ip-192-168-1-12.eu-central-1.compute.internal:20888/proxy/application_1738075734771_0172/\">Link</a></td><td><a target=\"_blank\" href=\"http://ip-192-168-1-139.eu-central-1.compute.internal:8042/node/containerlogs/container_1738075734771_0172_01_000002/livy\">Link</a></td><td>None</td><td></td></tr><tr><td>173</td><td>application_1738075734771_0174</td><td>pyspark</td><td>idle</td><td><a target=\"_blank\" href=\"http://ip-192-168-1-12.eu-central-1.compute.internal:20888/proxy/application_1738075734771_0174/\">Link</a></td><td><a target=\"_blank\" href=\"http://ip-192-168-1-137.eu-central-1.compute.internal:8042/node/containerlogs/container_1738075734771_0174_01_000001/livy\">Link</a></td><td>None</td><td></td></tr><tr><td>174</td><td>application_1738075734771_0175</td><td>pyspark</td><td>idle</td><td><a target=\"_blank\" href=\"http://ip-192-168-1-12.eu-central-1.compute.internal:20888/proxy/application_1738075734771_0175/\">Link</a></td><td><a target=\"_blank\" href=\"http://ip-192-168-1-75.eu-central-1.compute.internal:8042/node/containerlogs/container_1738075734771_0175_01_000002/livy\">Link</a></td><td>None</td><td></td></tr><tr><td>175</td><td>application_1738075734771_0176</td><td>pyspark</td><td>idle</td><td><a target=\"_blank\" href=\"http://ip-192-168-1-12.eu-central-1.compute.internal:20888/proxy/application_1738075734771_0176/\">Link</a></td><td><a target=\"_blank\" href=\"http://ip-192-168-1-194.eu-central-1.compute.internal:8042/node/containerlogs/container_1738075734771_0176_01_000002/livy\">Link</a></td><td>None</td><td></td></tr><tr><td>183</td><td>application_1738075734771_0184</td><td>pyspark</td><td>idle</td><td><a target=\"_blank\" href=\"http://ip-192-168-1-12.eu-central-1.compute.internal:20888/proxy/application_1738075734771_0184/\">Link</a></td><td><a target=\"_blank\" href=\"http://ip-192-168-1-32.eu-central-1.compute.internal:8042/node/containerlogs/container_1738075734771_0184_01_000001/livy\">Link</a></td><td>None</td><td></td></tr><tr><td>186</td><td>application_1738075734771_0187</td><td>pyspark</td><td>idle</td><td><a target=\"_blank\" href=\"http://ip-192-168-1-12.eu-central-1.compute.internal:20888/proxy/application_1738075734771_0187/\">Link</a></td><td><a target=\"_blank\" href=\"http://ip-192-168-1-32.eu-central-1.compute.internal:8042/node/containerlogs/container_1738075734771_0187_01_000001/livy\">Link</a></td><td>None</td><td></td></tr><tr><td>193</td><td>application_1738075734771_0194</td><td>pyspark</td><td>idle</td><td><a target=\"_blank\" href=\"http://ip-192-168-1-12.eu-central-1.compute.internal:20888/proxy/application_1738075734771_0194/\">Link</a></td><td><a target=\"_blank\" href=\"http://ip-192-168-1-194.eu-central-1.compute.internal:8042/node/containerlogs/container_1738075734771_0194_01_000002/livy\">Link</a></td><td>None</td><td></td></tr><tr><td>195</td><td>application_1738075734771_0196</td><td>pyspark</td><td>idle</td><td><a target=\"_blank\" href=\"http://ip-192-168-1-12.eu-central-1.compute.internal:20888/proxy/application_1738075734771_0196/\">Link</a></td><td><a target=\"_blank\" href=\"http://ip-192-168-1-137.eu-central-1.compute.internal:8042/node/containerlogs/container_1738075734771_0196_01_000001/livy\">Link</a></td><td>None</td><td></td></tr><tr><td>215</td><td>application_1738075734771_0216</td><td>pyspark</td><td>idle</td><td><a target=\"_blank\" href=\"http://ip-192-168-1-12.eu-central-1.compute.internal:20888/proxy/application_1738075734771_0216/\">Link</a></td><td><a target=\"_blank\" href=\"http://ip-192-168-1-245.eu-central-1.compute.internal:8042/node/containerlogs/container_1738075734771_0216_01_000001/livy\">Link</a></td><td>None</td><td></td></tr><tr><td>229</td><td>application_1738075734771_0230</td><td>pyspark</td><td>idle</td><td><a target=\"_blank\" href=\"http://ip-192-168-1-12.eu-central-1.compute.internal:20888/proxy/application_1738075734771_0230/\">Link</a></td><td><a target=\"_blank\" href=\"http://ip-192-168-1-210.eu-central-1.compute.internal:8042/node/containerlogs/container_1738075734771_0230_01_000001/livy\">Link</a></td><td>None</td><td></td></tr><tr><td>233</td><td>application_1738075734771_0234</td><td>pyspark</td><td>idle</td><td><a target=\"_blank\" href=\"http://ip-192-168-1-12.eu-central-1.compute.internal:20888/proxy/application_1738075734771_0234/\">Link</a></td><td><a target=\"_blank\" href=\"http://ip-192-168-1-139.eu-central-1.compute.internal:8042/node/containerlogs/container_1738075734771_0234_01_000001/livy\">Link</a></td><td>None</td><td></td></tr><tr><td>235</td><td>application_1738075734771_0236</td><td>pyspark</td><td>idle</td><td><a target=\"_blank\" href=\"http://ip-192-168-1-12.eu-central-1.compute.internal:20888/proxy/application_1738075734771_0236/\">Link</a></td><td><a target=\"_blank\" href=\"http://ip-192-168-1-245.eu-central-1.compute.internal:8042/node/containerlogs/container_1738075734771_0236_01_000001/livy\">Link</a></td><td>None</td><td>✔</td></tr></table>"
      ],
      "text/plain": [
       "<IPython.core.display.HTML object>"
      ]
     },
     "metadata": {},
     "output_type": "display_data"
    }
   ],
   "source": [
    "%%configure -f\n",
    "{\n",
    "    \"conf\": {\n",
    "        \"spark.executor.instances\": \"2\",\n",
    "        \"spark.executor.cores\": \"1\",\n",
    "        \"spark.executor.memory\": \"2g\"\n",
    "    }\n",
    "}"
   ]
  },
  {
   "cell_type": "markdown",
   "id": "4fc8a012-4b16-4e63-828e-786c2ef2de6b",
   "metadata": {},
   "source": [
    "#### Case 2: 2 Executors × 2 Cores/4GB Memory"
   ]
  },
  {
   "cell_type": "code",
   "execution_count": 13,
   "id": "e59db8ce-c51f-48a1-b5e7-a6219b776806",
   "metadata": {
    "tags": []
   },
   "outputs": [
    {
     "name": "stdout",
     "output_type": "stream",
     "text": [
      "Starting Spark application\n"
     ]
    },
    {
     "data": {
      "text/html": [
       "<table>\n",
       "<tr><th>ID</th><th>YARN Application ID</th><th>Kind</th><th>State</th><th>Spark UI</th><th>Driver log</th><th>User</th><th>Current session?</th></tr><tr><td>236</td><td>application_1738075734771_0237</td><td>pyspark</td><td>idle</td><td><a target=\"_blank\" href=\"http://ip-192-168-1-12.eu-central-1.compute.internal:20888/proxy/application_1738075734771_0237/\">Link</a></td><td><a target=\"_blank\" href=\"http://ip-192-168-1-137.eu-central-1.compute.internal:8042/node/containerlogs/container_1738075734771_0237_01_000001/livy\">Link</a></td><td>None</td><td>✔</td></tr></table>"
      ],
      "text/plain": [
       "<IPython.core.display.HTML object>"
      ]
     },
     "metadata": {},
     "output_type": "display_data"
    },
    {
     "data": {
      "application/vnd.jupyter.widget-view+json": {
       "model_id": "",
       "version_major": 2,
       "version_minor": 0
      },
      "text/plain": [
       "FloatProgress(value=0.0, bar_style='info', description='Progress:', layout=Layout(height='25px', width='50%'),…"
      ]
     },
     "metadata": {},
     "output_type": "display_data"
    },
    {
     "name": "stdout",
     "output_type": "stream",
     "text": [
      "SparkSession available as 'spark'.\n"
     ]
    },
    {
     "data": {
      "text/html": [
       "Current session configs: <tt>{'conf': {'spark.sql.catalog.spark_catalog.type': 'hive', 'spark.executor.instances': '2', 'spark.executor.cores': '2', 'spark.executor.memory': '4g'}, 'kind': 'pyspark'}</tt><br>"
      ],
      "text/plain": [
       "<IPython.core.display.HTML object>"
      ]
     },
     "metadata": {},
     "output_type": "display_data"
    },
    {
     "data": {
      "text/html": [
       "<table>\n",
       "<tr><th>ID</th><th>YARN Application ID</th><th>Kind</th><th>State</th><th>Spark UI</th><th>Driver log</th><th>User</th><th>Current session?</th></tr><tr><td>148</td><td>application_1738075734771_0149</td><td>pyspark</td><td>idle</td><td><a target=\"_blank\" href=\"http://ip-192-168-1-12.eu-central-1.compute.internal:20888/proxy/application_1738075734771_0149/\">Link</a></td><td><a target=\"_blank\" href=\"http://ip-192-168-1-137.eu-central-1.compute.internal:8042/node/containerlogs/container_1738075734771_0149_01_000002/livy\">Link</a></td><td>None</td><td></td></tr><tr><td>155</td><td>application_1738075734771_0156</td><td>pyspark</td><td>idle</td><td><a target=\"_blank\" href=\"http://ip-192-168-1-12.eu-central-1.compute.internal:20888/proxy/application_1738075734771_0156/\">Link</a></td><td><a target=\"_blank\" href=\"http://ip-192-168-1-32.eu-central-1.compute.internal:8042/node/containerlogs/container_1738075734771_0156_01_000002/livy\">Link</a></td><td>None</td><td></td></tr><tr><td>156</td><td>application_1738075734771_0157</td><td>pyspark</td><td>idle</td><td><a target=\"_blank\" href=\"http://ip-192-168-1-12.eu-central-1.compute.internal:20888/proxy/application_1738075734771_0157/\">Link</a></td><td><a target=\"_blank\" href=\"http://ip-192-168-1-72.eu-central-1.compute.internal:8042/node/containerlogs/container_1738075734771_0157_01_000003/livy\">Link</a></td><td>None</td><td></td></tr><tr><td>161</td><td>application_1738075734771_0162</td><td>pyspark</td><td>idle</td><td><a target=\"_blank\" href=\"http://ip-192-168-1-12.eu-central-1.compute.internal:20888/proxy/application_1738075734771_0162/\">Link</a></td><td><a target=\"_blank\" href=\"http://ip-192-168-1-75.eu-central-1.compute.internal:8042/node/containerlogs/container_1738075734771_0162_01_000002/livy\">Link</a></td><td>None</td><td></td></tr><tr><td>165</td><td>application_1738075734771_0166</td><td>pyspark</td><td>idle</td><td><a target=\"_blank\" href=\"http://ip-192-168-1-12.eu-central-1.compute.internal:20888/proxy/application_1738075734771_0166/\">Link</a></td><td><a target=\"_blank\" href=\"http://ip-192-168-1-139.eu-central-1.compute.internal:8042/node/containerlogs/container_1738075734771_0166_01_000002/livy\">Link</a></td><td>None</td><td></td></tr><tr><td>170</td><td>application_1738075734771_0171</td><td>pyspark</td><td>idle</td><td><a target=\"_blank\" href=\"http://ip-192-168-1-12.eu-central-1.compute.internal:20888/proxy/application_1738075734771_0171/\">Link</a></td><td><a target=\"_blank\" href=\"http://ip-192-168-1-139.eu-central-1.compute.internal:8042/node/containerlogs/container_1738075734771_0171_01_000002/livy\">Link</a></td><td>None</td><td></td></tr><tr><td>171</td><td>application_1738075734771_0172</td><td>pyspark</td><td>idle</td><td><a target=\"_blank\" href=\"http://ip-192-168-1-12.eu-central-1.compute.internal:20888/proxy/application_1738075734771_0172/\">Link</a></td><td><a target=\"_blank\" href=\"http://ip-192-168-1-139.eu-central-1.compute.internal:8042/node/containerlogs/container_1738075734771_0172_01_000002/livy\">Link</a></td><td>None</td><td></td></tr><tr><td>173</td><td>application_1738075734771_0174</td><td>pyspark</td><td>idle</td><td><a target=\"_blank\" href=\"http://ip-192-168-1-12.eu-central-1.compute.internal:20888/proxy/application_1738075734771_0174/\">Link</a></td><td><a target=\"_blank\" href=\"http://ip-192-168-1-137.eu-central-1.compute.internal:8042/node/containerlogs/container_1738075734771_0174_01_000001/livy\">Link</a></td><td>None</td><td></td></tr><tr><td>174</td><td>application_1738075734771_0175</td><td>pyspark</td><td>idle</td><td><a target=\"_blank\" href=\"http://ip-192-168-1-12.eu-central-1.compute.internal:20888/proxy/application_1738075734771_0175/\">Link</a></td><td><a target=\"_blank\" href=\"http://ip-192-168-1-75.eu-central-1.compute.internal:8042/node/containerlogs/container_1738075734771_0175_01_000002/livy\">Link</a></td><td>None</td><td></td></tr><tr><td>175</td><td>application_1738075734771_0176</td><td>pyspark</td><td>idle</td><td><a target=\"_blank\" href=\"http://ip-192-168-1-12.eu-central-1.compute.internal:20888/proxy/application_1738075734771_0176/\">Link</a></td><td><a target=\"_blank\" href=\"http://ip-192-168-1-194.eu-central-1.compute.internal:8042/node/containerlogs/container_1738075734771_0176_01_000002/livy\">Link</a></td><td>None</td><td></td></tr><tr><td>183</td><td>application_1738075734771_0184</td><td>pyspark</td><td>idle</td><td><a target=\"_blank\" href=\"http://ip-192-168-1-12.eu-central-1.compute.internal:20888/proxy/application_1738075734771_0184/\">Link</a></td><td><a target=\"_blank\" href=\"http://ip-192-168-1-32.eu-central-1.compute.internal:8042/node/containerlogs/container_1738075734771_0184_01_000001/livy\">Link</a></td><td>None</td><td></td></tr><tr><td>186</td><td>application_1738075734771_0187</td><td>pyspark</td><td>idle</td><td><a target=\"_blank\" href=\"http://ip-192-168-1-12.eu-central-1.compute.internal:20888/proxy/application_1738075734771_0187/\">Link</a></td><td><a target=\"_blank\" href=\"http://ip-192-168-1-32.eu-central-1.compute.internal:8042/node/containerlogs/container_1738075734771_0187_01_000001/livy\">Link</a></td><td>None</td><td></td></tr><tr><td>193</td><td>application_1738075734771_0194</td><td>pyspark</td><td>idle</td><td><a target=\"_blank\" href=\"http://ip-192-168-1-12.eu-central-1.compute.internal:20888/proxy/application_1738075734771_0194/\">Link</a></td><td><a target=\"_blank\" href=\"http://ip-192-168-1-194.eu-central-1.compute.internal:8042/node/containerlogs/container_1738075734771_0194_01_000002/livy\">Link</a></td><td>None</td><td></td></tr><tr><td>195</td><td>application_1738075734771_0196</td><td>pyspark</td><td>idle</td><td><a target=\"_blank\" href=\"http://ip-192-168-1-12.eu-central-1.compute.internal:20888/proxy/application_1738075734771_0196/\">Link</a></td><td><a target=\"_blank\" href=\"http://ip-192-168-1-137.eu-central-1.compute.internal:8042/node/containerlogs/container_1738075734771_0196_01_000001/livy\">Link</a></td><td>None</td><td></td></tr><tr><td>215</td><td>application_1738075734771_0216</td><td>pyspark</td><td>idle</td><td><a target=\"_blank\" href=\"http://ip-192-168-1-12.eu-central-1.compute.internal:20888/proxy/application_1738075734771_0216/\">Link</a></td><td><a target=\"_blank\" href=\"http://ip-192-168-1-245.eu-central-1.compute.internal:8042/node/containerlogs/container_1738075734771_0216_01_000001/livy\">Link</a></td><td>None</td><td></td></tr><tr><td>229</td><td>application_1738075734771_0230</td><td>pyspark</td><td>idle</td><td><a target=\"_blank\" href=\"http://ip-192-168-1-12.eu-central-1.compute.internal:20888/proxy/application_1738075734771_0230/\">Link</a></td><td><a target=\"_blank\" href=\"http://ip-192-168-1-210.eu-central-1.compute.internal:8042/node/containerlogs/container_1738075734771_0230_01_000001/livy\">Link</a></td><td>None</td><td></td></tr><tr><td>233</td><td>application_1738075734771_0234</td><td>pyspark</td><td>idle</td><td><a target=\"_blank\" href=\"http://ip-192-168-1-12.eu-central-1.compute.internal:20888/proxy/application_1738075734771_0234/\">Link</a></td><td><a target=\"_blank\" href=\"http://ip-192-168-1-139.eu-central-1.compute.internal:8042/node/containerlogs/container_1738075734771_0234_01_000001/livy\">Link</a></td><td>None</td><td></td></tr><tr><td>236</td><td>application_1738075734771_0237</td><td>pyspark</td><td>idle</td><td><a target=\"_blank\" href=\"http://ip-192-168-1-12.eu-central-1.compute.internal:20888/proxy/application_1738075734771_0237/\">Link</a></td><td><a target=\"_blank\" href=\"http://ip-192-168-1-137.eu-central-1.compute.internal:8042/node/containerlogs/container_1738075734771_0237_01_000001/livy\">Link</a></td><td>None</td><td>✔</td></tr></table>"
      ],
      "text/plain": [
       "<IPython.core.display.HTML object>"
      ]
     },
     "metadata": {},
     "output_type": "display_data"
    }
   ],
   "source": [
    "%%configure -f\n",
    "{\n",
    "    \"conf\": {\n",
    "        \"spark.executor.instances\": \"2\",\n",
    "        \"spark.executor.cores\": \"2\",\n",
    "        \"spark.executor.memory\": \"4g\"\n",
    "    }\n",
    "}"
   ]
  },
  {
   "cell_type": "markdown",
   "id": "e520b4ec-cec5-48ca-934d-78fe44217dd3",
   "metadata": {
    "tags": []
   },
   "source": [
    "#### Case 3: 2 Executors × 4 Cores/8GB Memory"
   ]
  },
  {
   "cell_type": "code",
   "execution_count": 25,
   "id": "daaa0a39-18c1-45c3-bad2-aa40cfd50fae",
   "metadata": {
    "tags": []
   },
   "outputs": [
    {
     "name": "stdout",
     "output_type": "stream",
     "text": [
      "Starting Spark application\n"
     ]
    },
    {
     "data": {
      "text/html": [
       "<table>\n",
       "<tr><th>ID</th><th>YARN Application ID</th><th>Kind</th><th>State</th><th>Spark UI</th><th>Driver log</th><th>User</th><th>Current session?</th></tr><tr><td>237</td><td>application_1738075734771_0238</td><td>pyspark</td><td>idle</td><td><a target=\"_blank\" href=\"http://ip-192-168-1-12.eu-central-1.compute.internal:20888/proxy/application_1738075734771_0238/\">Link</a></td><td><a target=\"_blank\" href=\"http://ip-192-168-1-100.eu-central-1.compute.internal:8042/node/containerlogs/container_1738075734771_0238_01_000001/livy\">Link</a></td><td>None</td><td>✔</td></tr></table>"
      ],
      "text/plain": [
       "<IPython.core.display.HTML object>"
      ]
     },
     "metadata": {},
     "output_type": "display_data"
    },
    {
     "data": {
      "application/vnd.jupyter.widget-view+json": {
       "model_id": "",
       "version_major": 2,
       "version_minor": 0
      },
      "text/plain": [
       "FloatProgress(value=0.0, bar_style='info', description='Progress:', layout=Layout(height='25px', width='50%'),…"
      ]
     },
     "metadata": {},
     "output_type": "display_data"
    },
    {
     "name": "stdout",
     "output_type": "stream",
     "text": [
      "SparkSession available as 'spark'.\n"
     ]
    },
    {
     "data": {
      "text/html": [
       "Current session configs: <tt>{'conf': {'spark.sql.catalog.spark_catalog.type': 'hive', 'spark.executor.instances': '2', 'spark.executor.cores': '4', 'spark.executor.memory': '8g'}, 'kind': 'pyspark'}</tt><br>"
      ],
      "text/plain": [
       "<IPython.core.display.HTML object>"
      ]
     },
     "metadata": {},
     "output_type": "display_data"
    },
    {
     "data": {
      "text/html": [
       "<table>\n",
       "<tr><th>ID</th><th>YARN Application ID</th><th>Kind</th><th>State</th><th>Spark UI</th><th>Driver log</th><th>User</th><th>Current session?</th></tr><tr><td>148</td><td>application_1738075734771_0149</td><td>pyspark</td><td>idle</td><td><a target=\"_blank\" href=\"http://ip-192-168-1-12.eu-central-1.compute.internal:20888/proxy/application_1738075734771_0149/\">Link</a></td><td><a target=\"_blank\" href=\"http://ip-192-168-1-137.eu-central-1.compute.internal:8042/node/containerlogs/container_1738075734771_0149_01_000002/livy\">Link</a></td><td>None</td><td></td></tr><tr><td>155</td><td>application_1738075734771_0156</td><td>pyspark</td><td>idle</td><td><a target=\"_blank\" href=\"http://ip-192-168-1-12.eu-central-1.compute.internal:20888/proxy/application_1738075734771_0156/\">Link</a></td><td><a target=\"_blank\" href=\"http://ip-192-168-1-32.eu-central-1.compute.internal:8042/node/containerlogs/container_1738075734771_0156_01_000002/livy\">Link</a></td><td>None</td><td></td></tr><tr><td>156</td><td>application_1738075734771_0157</td><td>pyspark</td><td>idle</td><td><a target=\"_blank\" href=\"http://ip-192-168-1-12.eu-central-1.compute.internal:20888/proxy/application_1738075734771_0157/\">Link</a></td><td><a target=\"_blank\" href=\"http://ip-192-168-1-72.eu-central-1.compute.internal:8042/node/containerlogs/container_1738075734771_0157_01_000003/livy\">Link</a></td><td>None</td><td></td></tr><tr><td>161</td><td>application_1738075734771_0162</td><td>pyspark</td><td>idle</td><td><a target=\"_blank\" href=\"http://ip-192-168-1-12.eu-central-1.compute.internal:20888/proxy/application_1738075734771_0162/\">Link</a></td><td><a target=\"_blank\" href=\"http://ip-192-168-1-75.eu-central-1.compute.internal:8042/node/containerlogs/container_1738075734771_0162_01_000002/livy\">Link</a></td><td>None</td><td></td></tr><tr><td>165</td><td>application_1738075734771_0166</td><td>pyspark</td><td>idle</td><td><a target=\"_blank\" href=\"http://ip-192-168-1-12.eu-central-1.compute.internal:20888/proxy/application_1738075734771_0166/\">Link</a></td><td><a target=\"_blank\" href=\"http://ip-192-168-1-139.eu-central-1.compute.internal:8042/node/containerlogs/container_1738075734771_0166_01_000002/livy\">Link</a></td><td>None</td><td></td></tr><tr><td>170</td><td>application_1738075734771_0171</td><td>pyspark</td><td>idle</td><td><a target=\"_blank\" href=\"http://ip-192-168-1-12.eu-central-1.compute.internal:20888/proxy/application_1738075734771_0171/\">Link</a></td><td><a target=\"_blank\" href=\"http://ip-192-168-1-139.eu-central-1.compute.internal:8042/node/containerlogs/container_1738075734771_0171_01_000002/livy\">Link</a></td><td>None</td><td></td></tr><tr><td>171</td><td>application_1738075734771_0172</td><td>pyspark</td><td>idle</td><td><a target=\"_blank\" href=\"http://ip-192-168-1-12.eu-central-1.compute.internal:20888/proxy/application_1738075734771_0172/\">Link</a></td><td><a target=\"_blank\" href=\"http://ip-192-168-1-139.eu-central-1.compute.internal:8042/node/containerlogs/container_1738075734771_0172_01_000002/livy\">Link</a></td><td>None</td><td></td></tr><tr><td>173</td><td>application_1738075734771_0174</td><td>pyspark</td><td>idle</td><td><a target=\"_blank\" href=\"http://ip-192-168-1-12.eu-central-1.compute.internal:20888/proxy/application_1738075734771_0174/\">Link</a></td><td><a target=\"_blank\" href=\"http://ip-192-168-1-137.eu-central-1.compute.internal:8042/node/containerlogs/container_1738075734771_0174_01_000001/livy\">Link</a></td><td>None</td><td></td></tr><tr><td>174</td><td>application_1738075734771_0175</td><td>pyspark</td><td>idle</td><td><a target=\"_blank\" href=\"http://ip-192-168-1-12.eu-central-1.compute.internal:20888/proxy/application_1738075734771_0175/\">Link</a></td><td><a target=\"_blank\" href=\"http://ip-192-168-1-75.eu-central-1.compute.internal:8042/node/containerlogs/container_1738075734771_0175_01_000002/livy\">Link</a></td><td>None</td><td></td></tr><tr><td>175</td><td>application_1738075734771_0176</td><td>pyspark</td><td>idle</td><td><a target=\"_blank\" href=\"http://ip-192-168-1-12.eu-central-1.compute.internal:20888/proxy/application_1738075734771_0176/\">Link</a></td><td><a target=\"_blank\" href=\"http://ip-192-168-1-194.eu-central-1.compute.internal:8042/node/containerlogs/container_1738075734771_0176_01_000002/livy\">Link</a></td><td>None</td><td></td></tr><tr><td>183</td><td>application_1738075734771_0184</td><td>pyspark</td><td>idle</td><td><a target=\"_blank\" href=\"http://ip-192-168-1-12.eu-central-1.compute.internal:20888/proxy/application_1738075734771_0184/\">Link</a></td><td><a target=\"_blank\" href=\"http://ip-192-168-1-32.eu-central-1.compute.internal:8042/node/containerlogs/container_1738075734771_0184_01_000001/livy\">Link</a></td><td>None</td><td></td></tr><tr><td>186</td><td>application_1738075734771_0187</td><td>pyspark</td><td>idle</td><td><a target=\"_blank\" href=\"http://ip-192-168-1-12.eu-central-1.compute.internal:20888/proxy/application_1738075734771_0187/\">Link</a></td><td><a target=\"_blank\" href=\"http://ip-192-168-1-32.eu-central-1.compute.internal:8042/node/containerlogs/container_1738075734771_0187_01_000001/livy\">Link</a></td><td>None</td><td></td></tr><tr><td>193</td><td>application_1738075734771_0194</td><td>pyspark</td><td>idle</td><td><a target=\"_blank\" href=\"http://ip-192-168-1-12.eu-central-1.compute.internal:20888/proxy/application_1738075734771_0194/\">Link</a></td><td><a target=\"_blank\" href=\"http://ip-192-168-1-194.eu-central-1.compute.internal:8042/node/containerlogs/container_1738075734771_0194_01_000002/livy\">Link</a></td><td>None</td><td></td></tr><tr><td>195</td><td>application_1738075734771_0196</td><td>pyspark</td><td>idle</td><td><a target=\"_blank\" href=\"http://ip-192-168-1-12.eu-central-1.compute.internal:20888/proxy/application_1738075734771_0196/\">Link</a></td><td><a target=\"_blank\" href=\"http://ip-192-168-1-137.eu-central-1.compute.internal:8042/node/containerlogs/container_1738075734771_0196_01_000001/livy\">Link</a></td><td>None</td><td></td></tr><tr><td>215</td><td>application_1738075734771_0216</td><td>pyspark</td><td>idle</td><td><a target=\"_blank\" href=\"http://ip-192-168-1-12.eu-central-1.compute.internal:20888/proxy/application_1738075734771_0216/\">Link</a></td><td><a target=\"_blank\" href=\"http://ip-192-168-1-245.eu-central-1.compute.internal:8042/node/containerlogs/container_1738075734771_0216_01_000001/livy\">Link</a></td><td>None</td><td></td></tr><tr><td>229</td><td>application_1738075734771_0230</td><td>pyspark</td><td>idle</td><td><a target=\"_blank\" href=\"http://ip-192-168-1-12.eu-central-1.compute.internal:20888/proxy/application_1738075734771_0230/\">Link</a></td><td><a target=\"_blank\" href=\"http://ip-192-168-1-210.eu-central-1.compute.internal:8042/node/containerlogs/container_1738075734771_0230_01_000001/livy\">Link</a></td><td>None</td><td></td></tr><tr><td>233</td><td>application_1738075734771_0234</td><td>pyspark</td><td>idle</td><td><a target=\"_blank\" href=\"http://ip-192-168-1-12.eu-central-1.compute.internal:20888/proxy/application_1738075734771_0234/\">Link</a></td><td><a target=\"_blank\" href=\"http://ip-192-168-1-139.eu-central-1.compute.internal:8042/node/containerlogs/container_1738075734771_0234_01_000001/livy\">Link</a></td><td>None</td><td></td></tr><tr><td>237</td><td>application_1738075734771_0238</td><td>pyspark</td><td>idle</td><td><a target=\"_blank\" href=\"http://ip-192-168-1-12.eu-central-1.compute.internal:20888/proxy/application_1738075734771_0238/\">Link</a></td><td><a target=\"_blank\" href=\"http://ip-192-168-1-100.eu-central-1.compute.internal:8042/node/containerlogs/container_1738075734771_0238_01_000001/livy\">Link</a></td><td>None</td><td>✔</td></tr></table>"
      ],
      "text/plain": [
       "<IPython.core.display.HTML object>"
      ]
     },
     "metadata": {},
     "output_type": "display_data"
    }
   ],
   "source": [
    "%%configure -f\n",
    "{\n",
    "    \"conf\": {\n",
    "        \"spark.executor.instances\": \"2\",\n",
    "        \"spark.executor.cores\": \"4\",\n",
    "        \"spark.executor.memory\": \"8g\"\n",
    "    }\n",
    "}"
   ]
  },
  {
   "cell_type": "code",
   "execution_count": 26,
   "id": "2e54b9e3-81c2-4967-9e00-4ca7b196901c",
   "metadata": {
    "tags": []
   },
   "outputs": [
    {
     "data": {
      "application/vnd.jupyter.widget-view+json": {
       "model_id": "",
       "version_major": 2,
       "version_minor": 0
      },
      "text/plain": [
       "FloatProgress(value=0.0, bar_style='info', description='Progress:', layout=Layout(height='25px', width='50%'),…"
      ]
     },
     "metadata": {},
     "output_type": "display_data"
    },
    {
     "name": "stdout",
     "output_type": "stream",
     "text": [
      "Spark Master: yarn\n",
      "Executor Instances: 2\n",
      "Executor Cores: 4\n",
      "Executor Memory: 8g"
     ]
    }
   ],
   "source": [
    "\n",
    "master = spark.sparkContext.master\n",
    "print(f\"Spark Master: {master}\")\n",
    "\n",
    "conf = spark.sparkContext.getConf()\n",
    "print(\"Executor Instances:\", conf.get(\"spark.executor.instances\"))\n",
    "print(\"Executor Cores:\", conf.get(\"spark.executor.cores\"))\n",
    "print(\"Executor Memory:\", conf.get(\"spark.executor.memory\"))\n",
    "\n",
    "crime_data_path_1 = \"s3://initial-notebook-data-bucket-dblab-905418150721/CrimeData/Crime_Data_from_2010_to_2019_20241101.csv\""
   ]
  },
  {
   "cell_type": "code",
   "execution_count": 27,
   "id": "ef621409-3ce0-4dc2-bef2-3a87a5e26c1d",
   "metadata": {
    "tags": []
   },
   "outputs": [
    {
     "data": {
      "application/vnd.jupyter.widget-view+json": {
       "model_id": "",
       "version_major": 2,
       "version_minor": 0
      },
      "text/plain": [
       "FloatProgress(value=0.0, bar_style='info', description='Progress:', layout=Layout(height='25px', width='50%'),…"
      ]
     },
     "metadata": {},
     "output_type": "display_data"
    },
    {
     "name": "stdout",
     "output_type": "stream",
     "text": [
      "root\n",
      " |-- BG10: string (nullable = true)\n",
      " |-- BG10FIP10: string (nullable = true)\n",
      " |-- BG12: string (nullable = true)\n",
      " |-- CB10: string (nullable = true)\n",
      " |-- CEN_FIP13: string (nullable = true)\n",
      " |-- CITY: string (nullable = true)\n",
      " |-- CITYCOM: string (nullable = true)\n",
      " |-- COMM: string (nullable = true)\n",
      " |-- CT10: string (nullable = true)\n",
      " |-- CT12: string (nullable = true)\n",
      " |-- CTCB10: string (nullable = true)\n",
      " |-- HD_2012: long (nullable = true)\n",
      " |-- HD_NAME: string (nullable = true)\n",
      " |-- HOUSING10: long (nullable = true)\n",
      " |-- LA_FIP10: string (nullable = true)\n",
      " |-- OBJECTID: long (nullable = true)\n",
      " |-- POP_2010: long (nullable = true)\n",
      " |-- PUMA10: string (nullable = true)\n",
      " |-- SPA_2012: long (nullable = true)\n",
      " |-- SPA_NAME: string (nullable = true)\n",
      " |-- SUP_DIST: string (nullable = true)\n",
      " |-- SUP_LABEL: string (nullable = true)\n",
      " |-- ShapeSTArea: double (nullable = true)\n",
      " |-- ShapeSTLength: double (nullable = true)\n",
      " |-- ZCTA10: string (nullable = true)\n",
      " |-- geometry: geometry (nullable = true)"
     ]
    }
   ],
   "source": [
    "from sedona.spark import *\n",
    "from pyspark.sql.functions import col\n",
    "from pyspark.sql import SparkSession\n",
    "\n",
    "# Create spark Session\n",
    "spark = SparkSession.builder \\\n",
    "    .appName(\"GeoJSON read\") \\\n",
    "    .getOrCreate()\n",
    "\n",
    "# Create sedona context\n",
    "sedona = SedonaContext.create(spark)\n",
    "# Read the file from s3\n",
    "geojson_path = \"s3://initial-notebook-data-bucket-dblab-905418150721/2010_Census_Blocks.geojson\"\n",
    "blocks_df = sedona.read.format(\"geojson\") \\\n",
    "            .option(\"multiLine\", \"true\").load(geojson_path) \\\n",
    "            .selectExpr(\"explode(features) as features\") \\\n",
    "            .select(\"features.*\")\n",
    "# Formatting magic\n",
    "flattened_df = blocks_df.select( \\\n",
    "                [col(f\"properties.{col_name}\").alias(col_name) for col_name in \\\n",
    "                blocks_df.schema[\"properties\"].dataType.fieldNames()] + [\"geometry\"]) \\\n",
    "            .drop(\"properties\") \\\n",
    "            .drop(\"type\")\n",
    "# Print schema\n",
    "flattened_df.printSchema()"
   ]
  },
  {
   "cell_type": "code",
   "execution_count": 28,
   "id": "560d1f03-c571-49f0-a5d9-de6b55be01f8",
   "metadata": {
    "tags": []
   },
   "outputs": [
    {
     "data": {
      "application/vnd.jupyter.widget-view+json": {
       "model_id": "",
       "version_major": 2,
       "version_minor": 0
      },
      "text/plain": [
       "FloatProgress(value=0.0, bar_style='info', description='Progress:', layout=Layout(height='25px', width='50%'),…"
      ]
     },
     "metadata": {},
     "output_type": "display_data"
    }
   ],
   "source": [
    "from pyspark.sql.functions import regexp_replace, col, substring, year, to_date, expr, sum, avg\n",
    "\n",
    "# Filter Los Angeles areas based on CITY column\n",
    "LA_areas = (flattened_df\n",
    "    .filter(col(\"CITY\") == \"Los Angeles\")\n",
    "    .groupBy(\"COMM\", \"ZCTA10\", \"POP_2010\", \"HOUSING10\")\n",
    "    .agg(ST_Union_Aggr(\"geometry\").alias(\"geometry\"))\n",
    ")\n",
    "\n",
    "# Load income data from the CSV file\n",
    "file_path = 's3://initial-notebook-data-bucket-dblab-905418150721/LA_income_2015.csv'\n",
    "income_df = spark.read.csv(file_path, header=True, inferSchema=True)\n",
    "\n",
    "# Clean and convert the \"Estimated Median Income\" column from string format \"$33,887\" to double format 33887.0\n",
    "income_df = (income_df\n",
    "    .withColumn(\"Estimated Median Income\", \n",
    "        regexp_replace(col(\"Estimated Median Income\"), \"[$,]\", \"\").cast(\"double\")\n",
    "    )\n",
    ")\n",
    "\n",
    "# Convert \"Zip Code\" column to double and rename it to \"ZipCode\"\n",
    "income_df = income_df.withColumn(\"ZipCode\", col(\"Zip Code\").cast(\"double\"))\n",
    "\n",
    "# Convert the \"ZCTA10\" column in Los Angeles areas to double\n",
    "LA_areas = LA_areas.withColumn(\"ZCTA10\", col(\"ZCTA10\").cast(\"double\"))\n",
    "\n"
   ]
  },
  {
   "cell_type": "code",
   "execution_count": 29,
   "id": "57be9ce0-4104-4991-9f74-850f96aaf449",
   "metadata": {
    "tags": []
   },
   "outputs": [
    {
     "data": {
      "application/vnd.jupyter.widget-view+json": {
       "model_id": "",
       "version_major": 2,
       "version_minor": 0
      },
      "text/plain": [
       "FloatProgress(value=0.0, bar_style='info', description='Progress:', layout=Layout(height='25px', width='50%'),…"
      ]
     },
     "metadata": {},
     "output_type": "display_data"
    },
    {
     "name": "stdout",
     "output_type": "stream",
     "text": [
      "+-----------------------+---------------------------+\n",
      "|COMM                   |Estimated_Income_Per_Person|\n",
      "+-----------------------+---------------------------+\n",
      "|Toluca Terrace         |22701.099766722724         |\n",
      "|Elysian Park           |13520.428730086274         |\n",
      "|Longwood               |13852.235490552479         |\n",
      "|Green Meadows          |7842.072839405916          |\n",
      "|Cadillac-Corning       |29557.70140860528          |\n",
      "|Mid-city               |18130.855262337987         |\n",
      "|Lincoln Heights        |11436.728718313136         |\n",
      "|Van Nuys               |15172.370537953393         |\n",
      "|Gramercy Place         |13947.49027802478          |\n",
      "|Faircrest Heights      |23758.816259687963         |\n",
      "|Boyle Heights          |8874.9240057775            |\n",
      "|Lafayette Square       |17957.093065372475         |\n",
      "|Granada Hills          |26476.89020369152          |\n",
      "|North Hills            |16556.421870752303         |\n",
      "|Northridge             |21928.626085734853         |\n",
      "|Wilshire Center        |15678.678144503461         |\n",
      "|Jefferson Park         |11441.945001117863         |\n",
      "|Vermont Square         |8477.024058124885          |\n",
      "|Cloverdale/Cochran     |15625.500781429973         |\n",
      "|Adams-Normandie        |9671.920886383874          |\n",
      "|Harbor Pines           |18355.13066070611          |\n",
      "|Encino                 |40748.832160883714         |\n",
      "|Reynier Village        |27229.861359478025         |\n",
      "|Toluca Woods           |25351.8260476945           |\n",
      "|Glassell Park          |18391.99694591934          |\n",
      "|Silverlake             |22813.80356622725          |\n",
      "|Sunland                |23984.358224675703         |\n",
      "|Cheviot Hills          |38589.093393014606         |\n",
      "|Carthay                |47575.40400945061          |\n",
      "|West Los Angeles       |39424.9206068565           |\n",
      "|South Carthay          |35118.25691603809          |\n",
      "|Country Club Park      |16906.776307016942         |\n",
      "|Venice                 |46648.16710672975          |\n",
      "|University Hills       |13423.2119928123           |\n",
      "|Century Palms/Cove     |8441.298489784904          |\n",
      "|Playa Vista            |36343.21630982719          |\n",
      "|Beverlywood            |31897.556873960842         |\n",
      "|Chinatown              |11555.54153657987          |\n",
      "|Manchester Square      |13947.49027802478          |\n",
      "|Temple-Beaudry         |16615.871236264753         |\n",
      "|Figueroa Park Square   |8926.92466873329           |\n",
      "|Beverly Crest          |69775.50791751084          |\n",
      "|Koreatown              |12919.308503394752         |\n",
      "|Harbor City            |21187.01498739874          |\n",
      "|Pacific Palisades      |70039.5048525985           |\n",
      "|Angelino Heights       |16965.933262954917         |\n",
      "|North Hollywood        |16433.50839604109          |\n",
      "|Canoga Park            |18653.484086351906         |\n",
      "|Atwater Village        |29825.352623888233         |\n",
      "|Harvard Heights        |13218.062746206173         |\n",
      "|Reseda                 |17025.249391541638         |\n",
      "|Playa Del Rey          |47133.084755544565         |\n",
      "|Brentwood              |58865.23541293622          |\n",
      "|Alsace                 |13852.235490552479         |\n",
      "|South Park             |7071.708035762799          |\n",
      "|Studio City            |44175.99764379315          |\n",
      "|Mandeville Canyon      |68912.30600088248          |\n",
      "|Crestview              |35202.39900626475          |\n",
      "|Panorama City          |10258.573831554168         |\n",
      "|Hollywood Hills        |43242.83891551621          |\n",
      "|Exposition             |13852.235490552479         |\n",
      "|Exposition Park        |9585.9353100965            |\n",
      "|Angeles National Forest|24285.792985197466         |\n",
      "|Regent Square          |27229.861359478025         |\n",
      "|Lake Balboa            |17495.491772693797         |\n",
      "|Central                |6801.354588126208          |\n",
      "|Westchester            |31799.616337693024         |\n",
      "|Winnetka               |19763.531415681467         |\n",
      "|Wellington Square      |12612.538268662902         |\n",
      "|Little Bangladesh      |18000.639089869517         |\n",
      "|Reseda Ranch           |16955.436321401492         |\n",
      "|West Vernon            |8847.80578957767           |\n",
      "|Vernon Central         |6359.233818453075          |\n",
      "|Mt. Washington         |16823.625094346018         |\n",
      "|Bel Air                |70929.8761562331           |\n",
      "|Victoria Park          |17956.977454757136         |\n",
      "|Mar Vista              |33381.78053857437          |\n",
      "|Park La Brea           |37838.58672633992          |\n",
      "|Del Rey                |33210.53250519932          |\n",
      "|Baldwin Hills          |15434.159438118053         |\n",
      "|Elysian Valley         |17301.956365116104         |\n",
      "|Vermont Knolls         |9744.084956720635          |\n",
      "|Century City           |41733.66079464517          |\n",
      "|Wholesale District     |7930.912503022476          |\n",
      "|Valley Village         |26754.06980214357          |\n",
      "|Palisades Highlands    |68754.35381915027          |\n",
      "|Mission Hills          |17016.104632912266         |\n",
      "|Thai Town              |26736.693273025587         |\n",
      "|El Sereno              |13452.918354832756         |\n",
      "|Vermont Vista          |8299.943883243493          |\n",
      "|Pacoima                |12034.626721233546         |\n",
      "|San Pedro              |24330.211051519476         |\n",
      "|Watts                  |7898.1763713301225         |\n",
      "|Harvard Park           |10399.330093536102         |\n",
      "|Hyde Park              |14370.979279205889         |\n",
      "|Arleta                 |11920.061328489965         |\n",
      "|Downtown               |11719.370903915014         |\n",
      "|Tujunga                |22467.548073154343         |\n",
      "|Chatsworth             |30630.07843784476          |\n",
      "|St Elmo Village        |18130.855262337987         |\n",
      "|Westwood               |27903.33836956243          |\n",
      "|Little Tokyo           |11621.370103016923         |\n",
      "|University Park        |6872.3452079057315         |\n",
      "|Sylmar                 |16269.262951481482         |\n",
      "|Marina Peninsula       |62268.45374449339          |\n",
      "|Miracle Mile           |29966.950227469257         |\n",
      "|West Hills             |28555.221697869238         |\n",
      "|Hollywood              |26892.552017559392         |\n",
      "|Hancock Park           |21608.51029474509          |\n",
      "|Shadow Hills           |19062.147923516626         |\n",
      "|Eagle Rock             |20851.809349052415         |\n",
      "|Pico-Union             |11050.167652228221         |\n",
      "|Historic Filipinotown  |18678.48380141785          |\n",
      "|Brookside              |20301.283714254765         |\n",
      "|Little Armenia         |16633.03646267806          |\n",
      "|Rancho Park            |39712.44020610321          |\n",
      "|Tarzana                |29035.484000188455         |\n",
      "|Sycamore Square        |28339.038610376374         |\n",
      "|Echo Park              |20099.860888925272         |\n",
      "|Harbor Gateway         |15287.360425089737         |\n",
      "|Wilmington             |11375.58286687518          |\n",
      "|Porter Ranch           |35681.73175924274          |\n",
      "|Palms                  |28933.146234523334         |\n",
      "|Sun Valley             |14018.78377205262          |\n",
      "|Leimert Park           |15841.944640319522         |\n",
      "|Melrose                |24229.85413421145          |\n",
      "|Westlake               |10342.261085335915         |\n",
      "|Florence-Firestone     |8246.254348372759          |\n",
      "|East Hollywood         |15982.584218944015         |\n",
      "|Highland Park          |16781.107013705514         |\n",
      "|Sherman Oaks           |35295.24826268012          |\n",
      "|Valley Glen            |18410.16503950422          |\n",
      "|Woodland Hills         |38650.87875645291          |\n",
      "|Toluca Lake            |36295.80285624334          |\n",
      "|View Heights           |14377.54877063373          |\n",
      "|Lakeview Terrace       |16495.548536101895         |\n",
      "|West Adams             |9838.539918105767          |\n",
      "|Crenshaw District      |13397.804390719963         |\n",
      "|Los Feliz              |29055.679069853784         |\n",
      "+-----------------------+---------------------------+"
     ]
    }
   ],
   "source": [
    "joined_df = (LA_areas.join(\n",
    "    income_df,\n",
    "    LA_areas.ZCTA10 == income_df.ZipCode, \"inner\"\n",
    ").select(\"COMM\", \"ZCTA10\", \"POP_2010\", \"HOUSING10\", *income_df.columns))\n",
    "\n",
    "# Calculate total population and total number of households per ZIP Code\n",
    "zip_totals = (joined_df.groupBy(\"ZCTA10\").agg(\n",
    "    sum(\"POP_2010\").alias(\"TOTAL_ZIP_POP\"),\n",
    "    sum(\"HOUSING10\").alias(\"TOTAL_ZIP_HOUSING\")\n",
    "))\n",
    "\n",
    "# Join the total data (population and housing) with the main DataFrame\n",
    "joined_with_totals = joined_df.join(zip_totals, \"ZCTA10\", \"left\")\n",
    "\n",
    "\n",
    "# Group by area (COMM) and calculate estimated income per person\n",
    "result_df = (joined_with_totals.groupBy(\"COMM\").agg(\n",
    "    sum(\"TOTAL_ZIP_HOUSING\").alias(\"TOTAL_HOUSING\"),\n",
    "    sum(\"TOTAL_ZIP_POP\").alias(\"TOTAL_POP\"),\n",
    "    avg(\"Estimated Median Income\").alias(\"AVG_MEDIAN_INCOME\")\n",
    ").withColumn(\"Estimated_Income_Per_Person\",\n",
    "    (col(\"AVG_MEDIAN_INCOME\") * col(\"TOTAL_HOUSING\")) / col(\"TOTAL_POP\")\n",
    "))\n",
    "\n",
    "# Filter to remove areas with NULL values\n",
    "result_df = result_df.filter(result_df.Estimated_Income_Per_Person.isNotNull())\n",
    "\n",
    "# Display the results\n",
    "result_df.select(\"COMM\", \"Estimated_Income_Per_Person\").show(result_df.count(), truncate=False)\n"
   ]
  },
  {
   "cell_type": "code",
   "execution_count": 30,
   "id": "032fa89e-7f8c-4ebd-a23b-593aa745e7c5",
   "metadata": {
    "tags": []
   },
   "outputs": [
    {
     "data": {
      "application/vnd.jupyter.widget-view+json": {
       "model_id": "",
       "version_major": 2,
       "version_minor": 0
      },
      "text/plain": [
       "FloatProgress(value=0.0, bar_style='info', description='Progress:', layout=Layout(height='25px', width='50%'),…"
      ]
     },
     "metadata": {},
     "output_type": "display_data"
    },
    {
     "name": "stdout",
     "output_type": "stream",
     "text": [
      "Top 3 areas with the most average income per person:\n",
      "+-----------------+---------------------------+\n",
      "|COMM             |Estimated_Income_Per_Person|\n",
      "+-----------------+---------------------------+\n",
      "|Bel Air          |70929.8761562331           |\n",
      "|Pacific Palisades|70039.5048525985           |\n",
      "|Beverly Crest    |69775.50791751084          |\n",
      "+-----------------+---------------------------+\n",
      "\n",
      "Bottom 3 areas with the least average income per person:\n",
      "+---------------+---------------------------+\n",
      "|COMM           |Estimated_Income_Per_Person|\n",
      "+---------------+---------------------------+\n",
      "|Vernon Central |6359.233818453075          |\n",
      "|Central        |6801.354588126208          |\n",
      "|University Park|6872.3452079057315         |\n",
      "+---------------+---------------------------+"
     ]
    }
   ],
   "source": [
    "from pyspark.sql.functions import col, desc, asc\n",
    "\n",
    "# Get the 3 areas with the most average income per person\n",
    "top_areas_df = result_df.orderBy(desc(\"Estimated_Income_Per_Person\")).limit(3)\n",
    "\n",
    "# Get the 3 areas with the least average income per person\n",
    "bottom_areas_df = result_df.orderBy(asc(\"Estimated_Income_Per_Person\")).limit(3)\n",
    "\n",
    "# Display the top 3 areas\n",
    "print(\"Top 3 areas with the most average income per person:\")\n",
    "top_areas_df.select(\"COMM\", \"Estimated_Income_Per_Person\").show(truncate=False)\n",
    "\n",
    "# Display the bottom 3 areas\n",
    "print(\"Bottom 3 areas with the least average income per person:\")\n",
    "bottom_areas_df.select(\"COMM\", \"Estimated_Income_Per_Person\").show(truncate=False)\n"
   ]
  },
  {
   "cell_type": "code",
   "execution_count": 31,
   "id": "af8d76af-b90a-41e8-96d1-91130bb3c200",
   "metadata": {
    "tags": []
   },
   "outputs": [
    {
     "data": {
      "application/vnd.jupyter.widget-view+json": {
       "model_id": "",
       "version_major": 2,
       "version_minor": 0
      },
      "text/plain": [
       "FloatProgress(value=0.0, bar_style='info', description='Progress:', layout=Layout(height='25px', width='50%'),…"
      ]
     },
     "metadata": {},
     "output_type": "display_data"
    },
    {
     "name": "stdout",
     "output_type": "stream",
     "text": [
      "+------------+------------------------------+\n",
      "|Vict Descent|Vict Descent Full             |\n",
      "+------------+------------------------------+\n",
      "|A           |Other Asian                   |\n",
      "|B           |Black                         |\n",
      "|C           |Chinese                       |\n",
      "|D           |Cambodian                     |\n",
      "|F           |Filipino                      |\n",
      "|G           |Guamanian                     |\n",
      "|H           |Hispanic/Latin/Mexican        |\n",
      "|I           |American Indian/Alaskan Native|\n",
      "|J           |Japanese                      |\n",
      "|K           |Korean                        |\n",
      "|L           |Laotian                       |\n",
      "|O           |Other                         |\n",
      "|P           |Pacific Islander              |\n",
      "|S           |Samoan                        |\n",
      "|U           |Hawaiian                      |\n",
      "|V           |Vietnamese                    |\n",
      "|W           |White                         |\n",
      "|X           |Unknown                       |\n",
      "|Z           |AsianIndian                   |\n",
      "+------------+------------------------------+\n",
      "\n",
      "root\n",
      " |-- Vict Descent: string (nullable = true)\n",
      " |-- Vict Descent Full: string (nullable = true)"
     ]
    }
   ],
   "source": [
    "file_path = \"s3://initial-notebook-data-bucket-dblab-905418150721/RE_codes.csv\"\n",
    "\n",
    "# Read the CSV file into a DataFrame\n",
    "RE_data_df = spark.read.csv(file_path, header=True, inferSchema=True)\n",
    "\n",
    "# Show the first few rows of the DataFrame\n",
    "RE_data_df.show(truncate=False)\n",
    "\n",
    "# Print schema to inspect data types\n",
    "RE_data_df.printSchema()"
   ]
  },
  {
   "cell_type": "code",
   "execution_count": 32,
   "id": "e6ba354c-156c-4587-9eec-b25a32079a64",
   "metadata": {
    "tags": []
   },
   "outputs": [
    {
     "data": {
      "application/vnd.jupyter.widget-view+json": {
       "model_id": "",
       "version_major": 2,
       "version_minor": 0
      },
      "text/plain": [
       "FloatProgress(value=0.0, bar_style='info', description='Progress:', layout=Layout(height='25px', width='50%'),…"
      ]
     },
     "metadata": {},
     "output_type": "display_data"
    },
    {
     "name": "stdout",
     "output_type": "stream",
     "text": [
      "Execution time: 0.0895 seconds\n",
      "+-------------------+--------------------------+--------------+--------------------+\n",
      "|COMM               |Total_Crimes_Per_Community|TOTAL_COMM_POP|Crimes_Per_Person   |\n",
      "+-------------------+--------------------------+--------------+--------------------+\n",
      "|Venice             |2949                      |30663         |0.09617454260835534 |\n",
      "|Playa Vista        |445                       |8926          |0.049854358055119875|\n",
      "|Westchester        |3741                      |46196         |0.08098103731924843 |\n",
      "|Del Rey            |1111                      |27390         |0.040562248995983936|\n",
      "|Hyde Park          |2190                      |26576         |0.0824051776038531  |\n",
      "|Marina Peninsula   |185                       |4120          |0.044902912621359224|\n",
      "|View Heights       |145                       |3257          |0.04451949646914338 |\n",
      "|Cheviot Hills      |371                       |8761          |0.042346764068028765|\n",
      "|West Los Angeles   |1769                      |34048         |0.05195606203007519 |\n",
      "|Pacific Palisades  |733                       |20083         |0.0364985310959518  |\n",
      "|Brentwood          |1130                      |28991         |0.038977613742195855|\n",
      "|Mandeville Canyon  |75                        |3233          |0.023198267862666256|\n",
      "|Mar Vista          |1362                      |38424         |0.035446595877576516|\n",
      "|Century City       |704                       |11890         |0.0592094196804037  |\n",
      "|Palisades Highlands|70                        |3833          |0.018262457605009132|\n",
      "|Westwood           |1562                      |51227         |0.03049173287524157 |\n",
      "|Rancho Park        |571                       |6242          |0.09147709067606537 |\n",
      "|Palms              |1412                      |41456         |0.03406020841373987 |\n",
      "|Beverlywood        |424                       |12296         |0.034482758620689655|\n",
      "|Beverly Crest      |385                       |12152         |0.03168202764976959 |\n",
      "+-------------------+--------------------------+--------------+--------------------+\n",
      "only showing top 20 rows"
     ]
    }
   ],
   "source": [
    "from pyspark.sql.functions import col, to_date, year, expr, sum\n",
    "import time\n",
    "\n",
    "# Load crime data from the specified CSV file\n",
    "file_path = 's3://initial-notebook-data-bucket-dblab-905418150721/CrimeData/Crime_Data_from_2010_to_2019_20241101.csv'\n",
    "crimeData_df = spark.read.csv(file_path, header=True, inferSchema=True)\n",
    "\n",
    "# Extract the year from the \"Date Rptd\" column and filter for crimes reported in 2015\n",
    "crimeData_df = crimeData_df.withColumn(\"year\", year(to_date(col(\"Date Rptd\"), \"MM/dd/yyyy hh:mm:ss a\")))\n",
    "crimeData_df = crimeData_df.filter(col(\"year\") == 2015)\n",
    "\n",
    "# Create a geometry column using the latitude (LAT) and longitude (LON) values\n",
    "crimeData_df = crimeData_df.withColumn(\"geom\", expr(\"ST_Point(LON, LAT)\"))\n",
    "\n",
    "# Start measuring execution time\n",
    "start_time = time.time()\n",
    "\n",
    "# Perform a spatial join between crime data and Los Angeles area geometries\n",
    "crimeDataGEO_df = crimeData_df.hint(\"SHUFFLE_REPLICATE_NL\").join(\n",
    "    LA_areas.hint(\"SHUFFLE_REPLICATE_NL\"), expr(\"ST_Within(geom, geometry)\"), \"inner\"\n",
    ")\n",
    "\n",
    "# Group by community (COMM) and calculate the total number of crimes per community\n",
    "community_crime_stats = crimeDataGEO_df.groupBy(\"COMM\").agg(\n",
    "    expr(\"count(*)\").alias(\"Total_Crimes_Per_Community\")\n",
    ")\n",
    "\n",
    "# Aggregate the total population for each community\n",
    "community_population = LA_areas.groupBy(\"COMM\").agg(\n",
    "    sum(\"POP_2010\").alias(\"TOTAL_COMM_POP\")\n",
    ")\n",
    "\n",
    "# Join the crime statistics with the population data on community (COMM)\n",
    "final_stats = community_crime_stats.hint(\"SHUFFLE_REPLICATE_NL\").join(\n",
    "    community_population.hint(\"SHUFFLE_REPLICATE_NL\"), \"COMM\", \"inner\"\n",
    ")\n",
    "\n",
    "# Compute the crime rate per person for each community\n",
    "final_stats = final_stats.withColumn(\n",
    "    \"Crimes_Per_Person\", col(\"Total_Crimes_Per_Community\") / col(\"TOTAL_COMM_POP\")\n",
    ")\n",
    "\n",
    "# Calculate and display the execution time\n",
    "execution_time = time.time() - start_time\n",
    "print(f\"Execution time: {execution_time:.4f} seconds\")\n",
    "\n",
    "# Show the final computed statistics\n",
    "final_stats.show(truncate=False)\n"
   ]
  },
  {
   "cell_type": "code",
   "execution_count": 33,
   "id": "5804f522-d30a-4e9a-9bd0-8250b8447db9",
   "metadata": {
    "tags": []
   },
   "outputs": [
    {
     "data": {
      "application/vnd.jupyter.widget-view+json": {
       "model_id": "",
       "version_major": 2,
       "version_minor": 0
      },
      "text/plain": [
       "FloatProgress(value=0.0, bar_style='info', description='Progress:', layout=Layout(height='25px', width='50%'),…"
      ]
     },
     "metadata": {},
     "output_type": "display_data"
    }
   ],
   "source": [
    "crime_data_1 = spark.read.csv(\n",
    "    path=file_path,\n",
    "    header=True,\n",
    "    inferSchema=True\n",
    ").select(\"LON\", \"LAT\", \"DATE OCC\", \"Vict Descent\")\n"
   ]
  },
  {
   "cell_type": "code",
   "execution_count": 34,
   "id": "e5ebefd9-6e23-40b5-a775-16fcd9b07c02",
   "metadata": {
    "tags": []
   },
   "outputs": [
    {
     "data": {
      "application/vnd.jupyter.widget-view+json": {
       "model_id": "",
       "version_major": 2,
       "version_minor": 0
      },
      "text/plain": [
       "FloatProgress(value=0.0, bar_style='info', description='Progress:', layout=Layout(height='25px', width='50%'),…"
      ]
     },
     "metadata": {},
     "output_type": "display_data"
    },
    {
     "name": "stdout",
     "output_type": "stream",
     "text": [
      "root\n",
      " |-- geometry: geometry (nullable = true)\n",
      " |-- properties: struct (nullable = true)\n",
      " |    |-- BG10: string (nullable = true)\n",
      " |    |-- BG10FIP10: string (nullable = true)\n",
      " |    |-- BG12: string (nullable = true)\n",
      " |    |-- CB10: string (nullable = true)\n",
      " |    |-- CEN_FIP13: string (nullable = true)\n",
      " |    |-- CITY: string (nullable = true)\n",
      " |    |-- CITYCOM: string (nullable = true)\n",
      " |    |-- COMM: string (nullable = true)\n",
      " |    |-- CT10: string (nullable = true)\n",
      " |    |-- CT12: string (nullable = true)\n",
      " |    |-- CTCB10: string (nullable = true)\n",
      " |    |-- HD_2012: long (nullable = true)\n",
      " |    |-- HD_NAME: string (nullable = true)\n",
      " |    |-- HOUSING10: long (nullable = true)\n",
      " |    |-- LA_FIP10: string (nullable = true)\n",
      " |    |-- OBJECTID: long (nullable = true)\n",
      " |    |-- POP_2010: long (nullable = true)\n",
      " |    |-- PUMA10: string (nullable = true)\n",
      " |    |-- SPA_2012: long (nullable = true)\n",
      " |    |-- SPA_NAME: string (nullable = true)\n",
      " |    |-- SUP_DIST: string (nullable = true)\n",
      " |    |-- SUP_LABEL: string (nullable = true)\n",
      " |    |-- ShapeSTArea: double (nullable = true)\n",
      " |    |-- ShapeSTLength: double (nullable = true)\n",
      " |    |-- ZCTA10: string (nullable = true)\n",
      " |-- type: string (nullable = true)"
     ]
    }
   ],
   "source": [
    "blocks_df.printSchema()"
   ]
  },
  {
   "cell_type": "code",
   "execution_count": 35,
   "id": "12db11bd-deaa-4a96-9162-d100e96aeb32",
   "metadata": {
    "tags": []
   },
   "outputs": [
    {
     "data": {
      "application/vnd.jupyter.widget-view+json": {
       "model_id": "",
       "version_major": 2,
       "version_minor": 0
      },
      "text/plain": [
       "FloatProgress(value=0.0, bar_style='info', description='Progress:', layout=Layout(height='25px', width='50%'),…"
      ]
     },
     "metadata": {},
     "output_type": "display_data"
    },
    {
     "name": "stdout",
     "output_type": "stream",
     "text": [
      "Results for Bel Air, Beverly Crest, Pacific Palisades:\n",
      "+------------------------------+-----+\n",
      "|descent_description           |count|\n",
      "+------------------------------+-----+\n",
      "|White                         |918  |\n",
      "|Other                         |199  |\n",
      "|Hispanic/Latin/Mexican        |95   |\n",
      "|Unknown                       |56   |\n",
      "|Black                         |53   |\n",
      "|Unknown                       |38   |\n",
      "|Other Asian                   |33   |\n",
      "|Chinese                       |1    |\n",
      "|American Indian/Alaskan Native|1    |\n",
      "+------------------------------+-----+\n",
      "\n",
      "Results for Vernon, Central, University Park:\n",
      "+------------------------------+-----+\n",
      "|descent_description           |count|\n",
      "+------------------------------+-----+\n",
      "|Hispanic/Latin/Mexican        |1775 |\n",
      "|Black                         |416  |\n",
      "|White                         |403  |\n",
      "|Unknown                       |344  |\n",
      "|Other                         |218  |\n",
      "|Other Asian                   |138  |\n",
      "|American Indian/Alaskan Native|24   |\n",
      "|Unknown                       |23   |\n",
      "|Korean                        |5    |\n",
      "|Chinese                       |3    |\n",
      "|Filipino                      |1    |\n",
      "|Asian Indian                  |1    |\n",
      "+------------------------------+-----+\n",
      "\n",
      "Execution time: 27.86 seconds"
     ]
    }
   ],
   "source": [
    "from pyspark.sql.functions import to_timestamp, year, when, col\n",
    "import time\n",
    "\n",
    "start_time = time.time()\n",
    "\n",
    "# Step 2: Convert DATE OCC to date format\n",
    "crime_data = crime_data_1.withColumn(\"DATE_OCC\", to_timestamp(col(\"DATE OCC\"), \"MM/dd/yyyy hh:mm:ss a\"))\n",
    "\n",
    "# Step 3: Filter for 2015 crimes\n",
    "crimes_2015 = crime_data.filter(year(col(\"DATE_OCC\")) == 2015)\n",
    "\n",
    "# Step 4: Add geometry column\n",
    "crimes_2015 = crimes_2015.withColumn(\"geometry\", ST_Point(col(\"LON\"), col(\"LAT\")))\n",
    "\n",
    "# Step 5: Spatial join for specific areas\n",
    "specific_areas_1 = [\"Bel Air\", \"Beverly Crest\", \"Pacific Palisades\"]\n",
    "specific_areas_2 = [\"Vernon\", \"Central\", \"University Park\"]\n",
    "\n",
    "crimes_2015.createOrReplaceTempView(\"crime_data_2015\")\n",
    "blocks_df.createOrReplaceTempView(\"area_boundaries\")\n",
    "\n",
    "spatial_join_areas_1 = spark.sql(f\"\"\"\n",
    "    SELECT b.properties.COMM AS area_name, c.`Vict Descent` AS descent\n",
    "    FROM crime_data_2015 c\n",
    "    JOIN area_boundaries b\n",
    "    ON ST_Within(c.geometry, b.geometry)\n",
    "    WHERE b.properties.COMM IN ({', '.join([f\"'{area}'\" for area in specific_areas_1])})\n",
    "\"\"\")\n",
    "\n",
    "spatial_join_areas_2 = spark.sql(f\"\"\"\n",
    "    SELECT b.properties.COMM AS area_name, c.`Vict Descent` AS descent\n",
    "    FROM crime_data_2015 c\n",
    "    JOIN area_boundaries b\n",
    "    ON ST_Within(c.geometry, b.geometry)\n",
    "    WHERE b.properties.COMM IN ({', '.join([f\"'{area}'\" for area in specific_areas_2])})\n",
    "\"\"\")\n",
    "\n",
    "\n",
    "# Step 6: Group by victim ethnic background for both sets of areas\n",
    "crime_by_descent_areas_1 = spatial_join_areas_1.groupBy(\"descent\").count()\n",
    "crime_by_descent_areas_2 = spatial_join_areas_2.groupBy(\"descent\").count()\n",
    "\n",
    "# Step 7: Map descent codes to descriptions\n",
    "descent_codebook = {\n",
    "    \"A\": \"Other Asian\",\n",
    "    \"B\": \"Black\",\n",
    "    \"C\": \"Chinese\",\n",
    "    \"D\": \"Cambodian\",\n",
    "    \"F\": \"Filipino\",\n",
    "    \"G\": \"Guamanian\",\n",
    "    \"H\": \"Hispanic/Latin/Mexican\",\n",
    "    \"I\": \"American Indian/Alaskan Native\",\n",
    "    \"J\": \"Japanese\",\n",
    "    \"K\": \"Korean\",\n",
    "    \"L\": \"Laotian\",\n",
    "    \"O\": \"Other\",\n",
    "    \"P\": \"Pacific Islander\",\n",
    "    \"S\": \"Samoan\",\n",
    "    \"U\": \"Hawaiian\",\n",
    "    \"V\": \"Vietnamese\",\n",
    "    \"W\": \"White\",\n",
    "    \"X\": \"Unknown\",\n",
    "    \"Z\": \"Asian Indian\",\n",
    "}\n",
    "\n",
    "crime_by_descent_areas_1 = crime_by_descent_areas_1.withColumn(\n",
    "    \"descent_description\",\n",
    "    when(\n",
    "        col(\"descent\").isin(list(descent_codebook.keys())),\n",
    "        col(\"descent\")\n",
    "    ).otherwise(\"Unknown\")\n",
    ").replace(descent_codebook, subset=[\"descent_description\"])\n",
    "\n",
    "crime_by_descent_areas_2 = crime_by_descent_areas_2.withColumn(\n",
    "    \"descent_description\",\n",
    "    when(\n",
    "        col(\"descent\").isin(list(descent_codebook.keys())),\n",
    "        col(\"descent\")\n",
    "    ).otherwise(\"Unknown\")\n",
    ").replace(descent_codebook, subset=[\"descent_description\"])\n",
    "\n",
    "# Step 8: Display results\n",
    "# Order the results by the count column in descending order\n",
    "crime_by_descent_areas_1_ordered = crime_by_descent_areas_1.orderBy(col(\"count\").desc())\n",
    "crime_by_descent_areas_2_ordered = crime_by_descent_areas_2.orderBy(col(\"count\").desc())\n",
    "\n",
    "# Display the ordered results for both sets of areas\n",
    "print(\"Results for Bel Air, Beverly Crest, Pacific Palisades:\")\n",
    "crime_by_descent_areas_1_ordered.select(\"descent_description\", \"count\").show(truncate=False)\n",
    "\n",
    "print(\"Results for Vernon, Central, University Park:\")\n",
    "crime_by_descent_areas_2_ordered.select(\"descent_description\", \"count\").show(truncate=False)\n",
    "\n",
    "end_time = time.time()\n",
    "print(f\"Execution time: {end_time - start_time:.2f} seconds\")\n"
   ]
  },
  {
   "cell_type": "code",
   "execution_count": null,
   "id": "3f11b782-42a2-4dce-99d6-a4ec95de3398",
   "metadata": {},
   "outputs": [],
   "source": []
  },
  {
   "cell_type": "code",
   "execution_count": null,
   "id": "e1429b1e-5167-4d19-8a57-1ceee1a35677",
   "metadata": {},
   "outputs": [],
   "source": []
  }
 ],
 "metadata": {
  "kernelspec": {
   "display_name": "Sparkmagic (PySpark)",
   "language": "python",
   "name": "pysparkkernel"
  },
  "language_info": {
   "codemirror_mode": {
    "name": "python",
    "version": 3
   },
   "file_extension": ".py",
   "mimetype": "text/x-python",
   "name": "pyspark",
   "pygments_lexer": "python3"
  }
 },
 "nbformat": 4,
 "nbformat_minor": 5
}
