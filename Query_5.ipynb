{
 "cells": [
  {
   "cell_type": "markdown",
   "metadata": {},
   "source": [
    "# Query 5"
   ]
  },
  {
   "cell_type": "code",
   "execution_count": 1,
   "metadata": {
    "tags": []
   },
   "outputs": [
    {
     "name": "stdout",
     "output_type": "stream",
     "text": [
      "Starting Spark application\n"
     ]
    },
    {
     "data": {
      "text/html": [
       "<table>\n",
       "<tr><th>ID</th><th>YARN Application ID</th><th>Kind</th><th>State</th><th>Spark UI</th><th>Driver log</th><th>User</th><th>Current session?</th></tr><tr><td>144</td><td>application_1738075734771_0145</td><td>pyspark</td><td>idle</td><td><a target=\"_blank\" href=\"http://ip-192-168-1-12.eu-central-1.compute.internal:20888/proxy/application_1738075734771_0145/\">Link</a></td><td><a target=\"_blank\" href=\"http://ip-192-168-1-139.eu-central-1.compute.internal:8042/node/containerlogs/container_1738075734771_0145_01_000002/livy\">Link</a></td><td>None</td><td>✔</td></tr></table>"
      ],
      "text/plain": [
       "<IPython.core.display.HTML object>"
      ]
     },
     "metadata": {},
     "output_type": "display_data"
    },
    {
     "data": {
      "application/vnd.jupyter.widget-view+json": {
       "model_id": "",
       "version_major": 2,
       "version_minor": 0
      },
      "text/plain": [
       "FloatProgress(value=0.0, bar_style='info', description='Progress:', layout=Layout(height='25px', width='50%'),…"
      ]
     },
     "metadata": {},
     "output_type": "display_data"
    },
    {
     "name": "stdout",
     "output_type": "stream",
     "text": [
      "SparkSession available as 'spark'.\n"
     ]
    },
    {
     "data": {
      "application/vnd.jupyter.widget-view+json": {
       "model_id": "",
       "version_major": 2,
       "version_minor": 0
      },
      "text/plain": [
       "FloatProgress(value=0.0, bar_style='info', description='Progress:', layout=Layout(height='25px', width='50%'),…"
      ]
     },
     "metadata": {},
     "output_type": "display_data"
    }
   ],
   "source": [
    "from pyspark.sql import SparkSession\n",
    "\n",
    "spark = SparkSession \\\n",
    "    .builder \\\n",
    "    .appName(\"Query 5\") \\\n",
    "    .getOrCreate()"
   ]
  },
  {
   "cell_type": "markdown",
   "metadata": {
    "id": "M2SnsHl2tEGc",
    "tags": []
   },
   "source": [
    "#### Case 1: 2 Executors × 4 Cores/8GB Memory"
   ]
  },
  {
   "cell_type": "code",
   "execution_count": 2,
   "metadata": {
    "tags": []
   },
   "outputs": [
    {
     "name": "stdout",
     "output_type": "stream",
     "text": [
      "Starting Spark application\n"
     ]
    },
    {
     "data": {
      "text/html": [
       "<table>\n",
       "<tr><th>ID</th><th>YARN Application ID</th><th>Kind</th><th>State</th><th>Spark UI</th><th>Driver log</th><th>User</th><th>Current session?</th></tr><tr><td>145</td><td>application_1738075734771_0146</td><td>pyspark</td><td>idle</td><td><a target=\"_blank\" href=\"http://ip-192-168-1-12.eu-central-1.compute.internal:20888/proxy/application_1738075734771_0146/\">Link</a></td><td><a target=\"_blank\" href=\"http://ip-192-168-1-139.eu-central-1.compute.internal:8042/node/containerlogs/container_1738075734771_0146_01_000002/livy\">Link</a></td><td>None</td><td>✔</td></tr></table>"
      ],
      "text/plain": [
       "<IPython.core.display.HTML object>"
      ]
     },
     "metadata": {},
     "output_type": "display_data"
    },
    {
     "data": {
      "application/vnd.jupyter.widget-view+json": {
       "model_id": "",
       "version_major": 2,
       "version_minor": 0
      },
      "text/plain": [
       "FloatProgress(value=0.0, bar_style='info', description='Progress:', layout=Layout(height='25px', width='50%'),…"
      ]
     },
     "metadata": {},
     "output_type": "display_data"
    },
    {
     "name": "stdout",
     "output_type": "stream",
     "text": [
      "SparkSession available as 'spark'.\n"
     ]
    },
    {
     "data": {
      "text/html": [
       "Current session configs: <tt>{'conf': {'spark.sql.catalog.spark_catalog.type': 'hive', 'spark.executor.instances': '2', 'spark.executor.cores': '4', 'spark.executor.memory': '8g'}, 'kind': 'pyspark'}</tt><br>"
      ],
      "text/plain": [
       "<IPython.core.display.HTML object>"
      ]
     },
     "metadata": {},
     "output_type": "display_data"
    },
    {
     "data": {
      "text/html": [
       "<table>\n",
       "<tr><th>ID</th><th>YARN Application ID</th><th>Kind</th><th>State</th><th>Spark UI</th><th>Driver log</th><th>User</th><th>Current session?</th></tr><tr><td>123</td><td>application_1738075734771_0124</td><td>pyspark</td><td>idle</td><td><a target=\"_blank\" href=\"http://ip-192-168-1-12.eu-central-1.compute.internal:20888/proxy/application_1738075734771_0124/\">Link</a></td><td><a target=\"_blank\" href=\"http://ip-192-168-1-137.eu-central-1.compute.internal:8042/node/containerlogs/container_1738075734771_0124_01_000001/livy\">Link</a></td><td>None</td><td></td></tr><tr><td>124</td><td>application_1738075734771_0125</td><td>pyspark</td><td>idle</td><td><a target=\"_blank\" href=\"http://ip-192-168-1-12.eu-central-1.compute.internal:20888/proxy/application_1738075734771_0125/\">Link</a></td><td><a target=\"_blank\" href=\"http://ip-192-168-1-139.eu-central-1.compute.internal:8042/node/containerlogs/container_1738075734771_0125_01_000001/livy\">Link</a></td><td>None</td><td></td></tr><tr><td>126</td><td>application_1738075734771_0127</td><td>pyspark</td><td>idle</td><td><a target=\"_blank\" href=\"http://ip-192-168-1-12.eu-central-1.compute.internal:20888/proxy/application_1738075734771_0127/\">Link</a></td><td><a target=\"_blank\" href=\"http://ip-192-168-1-139.eu-central-1.compute.internal:8042/node/containerlogs/container_1738075734771_0127_01_000001/livy\">Link</a></td><td>None</td><td></td></tr><tr><td>128</td><td>application_1738075734771_0129</td><td>pyspark</td><td>busy</td><td><a target=\"_blank\" href=\"http://ip-192-168-1-12.eu-central-1.compute.internal:20888/proxy/application_1738075734771_0129/\">Link</a></td><td><a target=\"_blank\" href=\"http://ip-192-168-1-137.eu-central-1.compute.internal:8042/node/containerlogs/container_1738075734771_0129_01_000001/livy\">Link</a></td><td>None</td><td></td></tr><tr><td>129</td><td>application_1738075734771_0130</td><td>pyspark</td><td>idle</td><td><a target=\"_blank\" href=\"http://ip-192-168-1-12.eu-central-1.compute.internal:20888/proxy/application_1738075734771_0130/\">Link</a></td><td><a target=\"_blank\" href=\"http://ip-192-168-1-139.eu-central-1.compute.internal:8042/node/containerlogs/container_1738075734771_0130_01_000002/livy\">Link</a></td><td>None</td><td></td></tr><tr><td>140</td><td>application_1738075734771_0141</td><td>pyspark</td><td>busy</td><td><a target=\"_blank\" href=\"http://ip-192-168-1-12.eu-central-1.compute.internal:20888/proxy/application_1738075734771_0141/\">Link</a></td><td><a target=\"_blank\" href=\"http://ip-192-168-1-137.eu-central-1.compute.internal:8042/node/containerlogs/container_1738075734771_0141_01_000002/livy\">Link</a></td><td>None</td><td></td></tr><tr><td>143</td><td>application_1738075734771_0144</td><td>pyspark</td><td>idle</td><td><a target=\"_blank\" href=\"http://ip-192-168-1-12.eu-central-1.compute.internal:20888/proxy/application_1738075734771_0144/\">Link</a></td><td><a target=\"_blank\" href=\"http://ip-192-168-1-137.eu-central-1.compute.internal:8042/node/containerlogs/container_1738075734771_0144_01_000002/livy\">Link</a></td><td>None</td><td></td></tr><tr><td>145</td><td>application_1738075734771_0146</td><td>pyspark</td><td>idle</td><td><a target=\"_blank\" href=\"http://ip-192-168-1-12.eu-central-1.compute.internal:20888/proxy/application_1738075734771_0146/\">Link</a></td><td><a target=\"_blank\" href=\"http://ip-192-168-1-139.eu-central-1.compute.internal:8042/node/containerlogs/container_1738075734771_0146_01_000002/livy\">Link</a></td><td>None</td><td>✔</td></tr></table>"
      ],
      "text/plain": [
       "<IPython.core.display.HTML object>"
      ]
     },
     "metadata": {},
     "output_type": "display_data"
    }
   ],
   "source": [
    "%%configure -f\n",
    "{\n",
    "    \"conf\": {\n",
    "        \"spark.executor.instances\": \"2\",\n",
    "        \"spark.executor.cores\": \"4\",\n",
    "        \"spark.executor.memory\": \"8g\"\n",
    "    }\n",
    "}"
   ]
  },
  {
   "cell_type": "markdown",
   "metadata": {
    "jp-MarkdownHeadingCollapsed": true,
    "tags": []
   },
   "source": [
    "#### Case 2: 4 Executors × 2 Cores/4GB Memory"
   ]
  },
  {
   "cell_type": "code",
   "execution_count": null,
   "metadata": {
    "tags": []
   },
   "outputs": [],
   "source": [
    "%%configure -f\n",
    "{\n",
    "    \"conf\": {\n",
    "        \"spark.executor.instances\": \"4\",\n",
    "        \"spark.executor.cores\": \"2\",\n",
    "        \"spark.executor.memory\": \"4g\"\n",
    "    }\n",
    "}"
   ]
  },
  {
   "cell_type": "markdown",
   "metadata": {
    "jp-MarkdownHeadingCollapsed": true,
    "tags": []
   },
   "source": [
    "#### Case 3: 8 Executors × 1 Cores/2GB Memory"
   ]
  },
  {
   "cell_type": "code",
   "execution_count": 2,
   "metadata": {
    "tags": []
   },
   "outputs": [
    {
     "name": "stdout",
     "output_type": "stream",
     "text": [
      "Starting Spark application\n"
     ]
    },
    {
     "data": {
      "text/html": [
       "<table>\n",
       "<tr><th>ID</th><th>YARN Application ID</th><th>Kind</th><th>State</th><th>Spark UI</th><th>Driver log</th><th>User</th><th>Current session?</th></tr><tr><td>834</td><td>application_1732639283265_0801</td><td>pyspark</td><td>idle</td><td><a target=\"_blank\" href=\"http://ip-192-168-1-36.eu-central-1.compute.internal:20888/proxy/application_1732639283265_0801/\">Link</a></td><td><a target=\"_blank\" href=\"http://ip-192-168-1-112.eu-central-1.compute.internal:8042/node/containerlogs/container_1732639283265_0801_01_000001/livy\">Link</a></td><td>None</td><td>✔</td></tr></table>"
      ],
      "text/plain": [
       "<IPython.core.display.HTML object>"
      ]
     },
     "metadata": {},
     "output_type": "display_data"
    },
    {
     "data": {
      "application/vnd.jupyter.widget-view+json": {
       "model_id": "",
       "version_major": 2,
       "version_minor": 0
      },
      "text/plain": [
       "FloatProgress(value=0.0, bar_style='info', description='Progress:', layout=Layout(height='25px', width='50%'),…"
      ]
     },
     "metadata": {},
     "output_type": "display_data"
    },
    {
     "name": "stdout",
     "output_type": "stream",
     "text": [
      "SparkSession available as 'spark'.\n"
     ]
    },
    {
     "data": {
      "text/html": [
       "Current session configs: <tt>{'conf': {'spark.sql.catalog.spark_catalog.type': 'hive', 'spark.executor.instances': '8', 'spark.executor.cores': '1', 'spark.executor.memory': '2g'}, 'kind': 'pyspark'}</tt><br>"
      ],
      "text/plain": [
       "<IPython.core.display.HTML object>"
      ]
     },
     "metadata": {},
     "output_type": "display_data"
    },
    {
     "data": {
      "text/html": [
       "<table>\n",
       "<tr><th>ID</th><th>YARN Application ID</th><th>Kind</th><th>State</th><th>Spark UI</th><th>Driver log</th><th>User</th><th>Current session?</th></tr><tr><td>782</td><td>application_1732639283265_0749</td><td>pyspark</td><td>idle</td><td><a target=\"_blank\" href=\"http://ip-192-168-1-36.eu-central-1.compute.internal:20888/proxy/application_1732639283265_0749/\">Link</a></td><td><a target=\"_blank\" href=\"http://ip-192-168-1-117.eu-central-1.compute.internal:8042/node/containerlogs/container_1732639283265_0749_01_000001/livy\">Link</a></td><td>None</td><td></td></tr><tr><td>783</td><td>application_1732639283265_0750</td><td>pyspark</td><td>idle</td><td><a target=\"_blank\" href=\"http://ip-192-168-1-36.eu-central-1.compute.internal:20888/proxy/application_1732639283265_0750/\">Link</a></td><td><a target=\"_blank\" href=\"http://ip-192-168-1-166.eu-central-1.compute.internal:8042/node/containerlogs/container_1732639283265_0750_01_000001/livy\">Link</a></td><td>None</td><td></td></tr><tr><td>784</td><td>application_1732639283265_0751</td><td>pyspark</td><td>idle</td><td><a target=\"_blank\" href=\"http://ip-192-168-1-36.eu-central-1.compute.internal:20888/proxy/application_1732639283265_0751/\">Link</a></td><td><a target=\"_blank\" href=\"http://ip-192-168-1-119.eu-central-1.compute.internal:8042/node/containerlogs/container_1732639283265_0751_01_000001/livy\">Link</a></td><td>None</td><td></td></tr><tr><td>785</td><td>application_1732639283265_0752</td><td>pyspark</td><td>idle</td><td><a target=\"_blank\" href=\"http://ip-192-168-1-36.eu-central-1.compute.internal:20888/proxy/application_1732639283265_0752/\">Link</a></td><td><a target=\"_blank\" href=\"http://ip-192-168-1-227.eu-central-1.compute.internal:8042/node/containerlogs/container_1732639283265_0752_01_000001/livy\">Link</a></td><td>None</td><td></td></tr><tr><td>789</td><td>application_1732639283265_0756</td><td>pyspark</td><td>idle</td><td><a target=\"_blank\" href=\"http://ip-192-168-1-36.eu-central-1.compute.internal:20888/proxy/application_1732639283265_0756/\">Link</a></td><td><a target=\"_blank\" href=\"http://ip-192-168-1-227.eu-central-1.compute.internal:8042/node/containerlogs/container_1732639283265_0756_01_000001/livy\">Link</a></td><td>None</td><td></td></tr><tr><td>792</td><td>application_1732639283265_0759</td><td>pyspark</td><td>idle</td><td><a target=\"_blank\" href=\"http://ip-192-168-1-36.eu-central-1.compute.internal:20888/proxy/application_1732639283265_0759/\">Link</a></td><td><a target=\"_blank\" href=\"http://ip-192-168-1-233.eu-central-1.compute.internal:8042/node/containerlogs/container_1732639283265_0759_01_000001/livy\">Link</a></td><td>None</td><td></td></tr><tr><td>793</td><td>application_1732639283265_0760</td><td>pyspark</td><td>idle</td><td><a target=\"_blank\" href=\"http://ip-192-168-1-36.eu-central-1.compute.internal:20888/proxy/application_1732639283265_0760/\">Link</a></td><td><a target=\"_blank\" href=\"http://ip-192-168-1-16.eu-central-1.compute.internal:8042/node/containerlogs/container_1732639283265_0760_01_000001/livy\">Link</a></td><td>None</td><td></td></tr><tr><td>795</td><td>application_1732639283265_0762</td><td>pyspark</td><td>idle</td><td><a target=\"_blank\" href=\"http://ip-192-168-1-36.eu-central-1.compute.internal:20888/proxy/application_1732639283265_0762/\">Link</a></td><td><a target=\"_blank\" href=\"http://ip-192-168-1-91.eu-central-1.compute.internal:8042/node/containerlogs/container_1732639283265_0762_01_000001/livy\">Link</a></td><td>None</td><td></td></tr><tr><td>801</td><td>application_1732639283265_0768</td><td>pyspark</td><td>idle</td><td><a target=\"_blank\" href=\"http://ip-192-168-1-36.eu-central-1.compute.internal:20888/proxy/application_1732639283265_0768/\">Link</a></td><td><a target=\"_blank\" href=\"http://ip-192-168-1-174.eu-central-1.compute.internal:8042/node/containerlogs/container_1732639283265_0768_01_000001/livy\">Link</a></td><td>None</td><td></td></tr><tr><td>802</td><td>application_1732639283265_0769</td><td>pyspark</td><td>idle</td><td><a target=\"_blank\" href=\"http://ip-192-168-1-36.eu-central-1.compute.internal:20888/proxy/application_1732639283265_0769/\">Link</a></td><td><a target=\"_blank\" href=\"http://ip-192-168-1-233.eu-central-1.compute.internal:8042/node/containerlogs/container_1732639283265_0769_01_000001/livy\">Link</a></td><td>None</td><td></td></tr><tr><td>803</td><td>application_1732639283265_0770</td><td>pyspark</td><td>idle</td><td><a target=\"_blank\" href=\"http://ip-192-168-1-36.eu-central-1.compute.internal:20888/proxy/application_1732639283265_0770/\">Link</a></td><td><a target=\"_blank\" href=\"http://ip-192-168-1-166.eu-central-1.compute.internal:8042/node/containerlogs/container_1732639283265_0770_01_000001/livy\">Link</a></td><td>None</td><td></td></tr><tr><td>807</td><td>application_1732639283265_0774</td><td>pyspark</td><td>idle</td><td><a target=\"_blank\" href=\"http://ip-192-168-1-36.eu-central-1.compute.internal:20888/proxy/application_1732639283265_0774/\">Link</a></td><td><a target=\"_blank\" href=\"http://ip-192-168-1-91.eu-central-1.compute.internal:8042/node/containerlogs/container_1732639283265_0774_01_000001/livy\">Link</a></td><td>None</td><td></td></tr><tr><td>808</td><td>application_1732639283265_0775</td><td>pyspark</td><td>idle</td><td><a target=\"_blank\" href=\"http://ip-192-168-1-36.eu-central-1.compute.internal:20888/proxy/application_1732639283265_0775/\">Link</a></td><td><a target=\"_blank\" href=\"http://ip-192-168-1-193.eu-central-1.compute.internal:8042/node/containerlogs/container_1732639283265_0775_01_000001/livy\">Link</a></td><td>None</td><td></td></tr><tr><td>816</td><td>application_1732639283265_0783</td><td>pyspark</td><td>idle</td><td><a target=\"_blank\" href=\"http://ip-192-168-1-36.eu-central-1.compute.internal:20888/proxy/application_1732639283265_0783/\">Link</a></td><td><a target=\"_blank\" href=\"http://ip-192-168-1-247.eu-central-1.compute.internal:8042/node/containerlogs/container_1732639283265_0783_01_000001/livy\">Link</a></td><td>None</td><td></td></tr><tr><td>817</td><td>application_1732639283265_0784</td><td>pyspark</td><td>idle</td><td><a target=\"_blank\" href=\"http://ip-192-168-1-36.eu-central-1.compute.internal:20888/proxy/application_1732639283265_0784/\">Link</a></td><td><a target=\"_blank\" href=\"http://ip-192-168-1-112.eu-central-1.compute.internal:8042/node/containerlogs/container_1732639283265_0784_01_000001/livy\">Link</a></td><td>None</td><td></td></tr><tr><td>823</td><td>application_1732639283265_0790</td><td>pyspark</td><td>idle</td><td><a target=\"_blank\" href=\"http://ip-192-168-1-36.eu-central-1.compute.internal:20888/proxy/application_1732639283265_0790/\">Link</a></td><td><a target=\"_blank\" href=\"http://ip-192-168-1-233.eu-central-1.compute.internal:8042/node/containerlogs/container_1732639283265_0790_01_000002/livy\">Link</a></td><td>None</td><td></td></tr><tr><td>833</td><td>application_1732639283265_0800</td><td>pyspark</td><td>idle</td><td><a target=\"_blank\" href=\"http://ip-192-168-1-36.eu-central-1.compute.internal:20888/proxy/application_1732639283265_0800/\">Link</a></td><td><a target=\"_blank\" href=\"http://ip-192-168-1-119.eu-central-1.compute.internal:8042/node/containerlogs/container_1732639283265_0800_01_000002/livy\">Link</a></td><td>None</td><td></td></tr><tr><td>834</td><td>application_1732639283265_0801</td><td>pyspark</td><td>idle</td><td><a target=\"_blank\" href=\"http://ip-192-168-1-36.eu-central-1.compute.internal:20888/proxy/application_1732639283265_0801/\">Link</a></td><td><a target=\"_blank\" href=\"http://ip-192-168-1-112.eu-central-1.compute.internal:8042/node/containerlogs/container_1732639283265_0801_01_000001/livy\">Link</a></td><td>None</td><td>✔</td></tr></table>"
      ],
      "text/plain": [
       "<IPython.core.display.HTML object>"
      ]
     },
     "metadata": {},
     "output_type": "display_data"
    }
   ],
   "source": [
    "%%configure -f\n",
    "{\n",
    "    \"conf\": {\n",
    "        \"spark.executor.instances\": \"8\",\n",
    "        \"spark.executor.cores\": \"1\",\n",
    "        \"spark.executor.memory\": \"2g\"\n",
    "    }\n",
    "}"
   ]
  },
  {
   "cell_type": "markdown",
   "metadata": {
    "tags": []
   },
   "source": [
    "## Query Implementation"
   ]
  },
  {
   "cell_type": "code",
   "execution_count": 9,
   "metadata": {
    "tags": []
   },
   "outputs": [
    {
     "data": {
      "application/vnd.jupyter.widget-view+json": {
       "model_id": "",
       "version_major": 2,
       "version_minor": 0
      },
      "text/plain": [
       "FloatProgress(value=0.0, bar_style='info', description='Progress:', layout=Layout(height='25px', width='50%'),…"
      ]
     },
     "metadata": {},
     "output_type": "display_data"
    },
    {
     "name": "stdout",
     "output_type": "stream",
     "text": [
      "Spark Master: yarn\n",
      "Executor Instances: 2\n",
      "Executor Cores: 4\n",
      "Executor Memory: 8g"
     ]
    }
   ],
   "source": [
    "import time\n",
    "start_time = time.time()\n",
    "\n",
    "master = spark.sparkContext.master\n",
    "print(f\"Spark Master: {master}\")\n",
    "\n",
    "conf = spark.sparkContext.getConf()\n",
    "print(\"Executor Instances:\", conf.get(\"spark.executor.instances\"))\n",
    "print(\"Executor Cores:\", conf.get(\"spark.executor.cores\"))\n",
    "print(\"Executor Memory:\", conf.get(\"spark.executor.memory\"))\n",
    "\n",
    "crime_data_path_1 = \"s3://initial-notebook-data-bucket-dblab-905418150721/CrimeData/Crime_Data_from_2010_to_2019_20241101.csv\"\n",
    "crime_data_path_2 = \"s3://initial-notebook-data-bucket-dblab-905418150721/CrimeData/Crime_Data_from_2020_to_Present_20241101.csv\"\n",
    "police_stations_data_path = \"s3://initial-notebook-data-bucket-dblab-905418150721/LA_Police_Stations.csv\""
   ]
  },
  {
   "cell_type": "code",
   "execution_count": 10,
   "metadata": {
    "tags": []
   },
   "outputs": [
    {
     "data": {
      "application/vnd.jupyter.widget-view+json": {
       "model_id": "",
       "version_major": 2,
       "version_minor": 0
      },
      "text/plain": [
       "FloatProgress(value=0.0, bar_style='info', description='Progress:', layout=Layout(height='25px', width='50%'),…"
      ]
     },
     "metadata": {},
     "output_type": "display_data"
    },
    {
     "name": "stdout",
     "output_type": "stream",
     "text": [
      "+----------------+--------------------+\n",
      "|        Division|   PS_Location_Point|\n",
      "+----------------+--------------------+\n",
      "|          HARBOR|POINT (-118.28924...|\n",
      "|       SOUTHEAST|POINT (-118.27539...|\n",
      "|     77TH STREET|POINT (-118.27766...|\n",
      "|         PACIFIC|POINT (-118.41984...|\n",
      "|       SOUTHWEST|POINT (-118.30514...|\n",
      "|          NEWTON|POINT (-118.25611...|\n",
      "|         CENTRAL|POINT (-118.24729...|\n",
      "|WEST LOS ANGELES|POINT (-118.45077...|\n",
      "|      HOLLENBECK|POINT (-118.21306...|\n",
      "|        WILSHIRE|POINT (-118.34282...|\n",
      "|         OLYMPIC|POINT (-118.29117...|\n",
      "|         RAMPART|POINT (-118.26697...|\n",
      "|       HOLLYWOOD|POINT (-118.33066...|\n",
      "|       NORTHEAST|POINT (-118.24941...|\n",
      "| NORTH HOLLYWOOD|POINT (-118.38585...|\n",
      "|        VAN NUYS|POINT (-118.44522...|\n",
      "|     WEST VALLEY|POINT (-118.54745...|\n",
      "|         TOPANGA|POINT (-118.59963...|\n",
      "|        FOOTHILL|POINT (-118.41041...|\n",
      "|      DEVONSHIRE|POINT (-118.53137...|\n",
      "+----------------+--------------------+\n",
      "only showing top 20 rows\n",
      "\n",
      "Rows of crime data 1:  2123044\n",
      "Rows of crime data 2:  990293\n",
      "Rows of crime data 1 after removing null:  2122136\n",
      "Rows of crime data 2 after removing null:  987744\n",
      "+--------------------+\n",
      "|Crime_Location_Point|\n",
      "+--------------------+\n",
      "|POINT (-118.2695 ...|\n",
      "|POINT (-118.3962 ...|\n",
      "|POINT (-118.2524 ...|\n",
      "|POINT (-118.3295 ...|\n",
      "|POINT (-118.2488 ...|\n",
      "|POINT (-118.2577 ...|\n",
      "|POINT (-118.2643 ...|\n",
      "|POINT (-118.2427 ...|\n",
      "|POINT (-118.264 3...|\n",
      "|POINT (-118.2488 ...|\n",
      "|POINT (-118.2375 ...|\n",
      "|POINT (-118.2386 ...|\n",
      "|POINT (-118.2609 ...|\n",
      "|POINT (-118.254 3...|\n",
      "|POINT (-118.2424 ...|\n",
      "|POINT (-118.255 3...|\n",
      "|POINT (-118.2668 ...|\n",
      "|POINT (-118.2461 ...|\n",
      "|POINT (-118.2499 ...|\n",
      "|POINT (-118.2374 ...|\n",
      "+--------------------+\n",
      "only showing top 20 rows\n",
      "\n",
      "Crime locations rows:  3109880\n",
      "Add rows from each dataset:  3109880"
     ]
    }
   ],
   "source": [
    "from sedona.spark import *\n",
    "from pyspark.sql.functions import col\n",
    "\n",
    "# Register Sedona for geospatial queries\n",
    "sedona = SedonaContext.create(spark)\n",
    "\n",
    "police_stations_data = spark.read.csv(\n",
    "    path=police_stations_data_path,\n",
    "    header=True,          # Use header row for column names\n",
    "    inferSchema=True      # Let Spark infer the schema\n",
    ").select(\"X\", \"Y\", \"Division\")\n",
    "\n",
    "# police_stations_data.show()\n",
    "\n",
    "# Create geospatial point for police stations\n",
    "police_stations = police_stations_data.withColumn(\n",
    "    \"PS_Location_Point\", ST_Point(\"X\", \"Y\")\n",
    ").select(\"Division\", \"PS_Location_Point\")\n",
    "\n",
    "police_stations.show()\n",
    "\n",
    "\n",
    "crime_data_1 = spark.read.csv(\n",
    "    path=crime_data_path_1,\n",
    "    header=True,          # Use header row for column names\n",
    "    inferSchema=True      # Let Spark infer the schema\n",
    ").select(\"LON\", \"LAT\")\n",
    "\n",
    "print(\"Rows of crime data 1: \", crime_data_1.count())\n",
    "\n",
    "crime_data_2 = spark.read.csv(\n",
    "    path=crime_data_path_2,\n",
    "    header=True,\n",
    "    inferSchema=True\n",
    ").select(\"LON\", \"LAT\")\n",
    "\n",
    "print(\"Rows of crime data 2: \", crime_data_2.count())\n",
    "\n",
    "# Filter out Null Island records\n",
    "crime_data_1 = crime_data_1.filter(~((col(\"LAT\") == 0) & (col(\"LON\") == 0)))\n",
    "crime_data_2 = crime_data_2.filter(~((col(\"LAT\") == 0) & (col(\"LON\") == 0)))\n",
    "\n",
    "print(\"Rows of crime data 1 after removing null: \", crime_data_1.count())\n",
    "print(\"Rows of crime data 2 after removing null: \", crime_data_2.count())\n",
    "\n",
    "\n",
    "# Create geospatial point for crime locations\n",
    "crime_locations_1 = crime_data_1.withColumn(\n",
    "    \"Crime_Location_Point\", ST_Point(\"LON\", \"LAT\")\n",
    ").select(\"Crime_Location_Point\")\n",
    "\n",
    "crime_locations_2 = crime_data_2.withColumn(\n",
    "    \"Crime_Location_Point\", ST_Point(\"LON\", \"LAT\")\n",
    ").select(\"Crime_Location_Point\")\n",
    "\n",
    "crime_locations = crime_locations_1.union(crime_locations_2)\n",
    "crime_locations.show()\n",
    "\n",
    "print(\"Crime locations rows: \", crime_locations.count())\n",
    "print(\"Add rows from each dataset: \", crime_locations_1.count()+crime_locations_2.count())"
   ]
  },
  {
   "cell_type": "code",
   "execution_count": 11,
   "metadata": {
    "tags": []
   },
   "outputs": [
    {
     "data": {
      "application/vnd.jupyter.widget-view+json": {
       "model_id": "",
       "version_major": 2,
       "version_minor": 0
      },
      "text/plain": [
       "FloatProgress(value=0.0, bar_style='info', description='Progress:', layout=Layout(height='25px', width='50%'),…"
      ]
     },
     "metadata": {},
     "output_type": "display_data"
    },
    {
     "name": "stdout",
     "output_type": "stream",
     "text": [
      "root\n",
      " |-- Crime_Location_Point: geometry (nullable = true)\n",
      " |-- Division: string (nullable = true)\n",
      " |-- PS_Location_Point: geometry (nullable = true)\n",
      "\n",
      "+--------------------+----------------+--------------------+\n",
      "|Crime_Location_Point|        Division|   PS_Location_Point|\n",
      "+--------------------+----------------+--------------------+\n",
      "|POINT (-118.2695 ...|          HARBOR|POINT (-118.28924...|\n",
      "|POINT (-118.2695 ...|       SOUTHEAST|POINT (-118.27539...|\n",
      "|POINT (-118.2695 ...|     77TH STREET|POINT (-118.27766...|\n",
      "|POINT (-118.2695 ...|         PACIFIC|POINT (-118.41984...|\n",
      "|POINT (-118.2695 ...|       SOUTHWEST|POINT (-118.30514...|\n",
      "|POINT (-118.2695 ...|          NEWTON|POINT (-118.25611...|\n",
      "|POINT (-118.2695 ...|         CENTRAL|POINT (-118.24729...|\n",
      "|POINT (-118.2695 ...|WEST LOS ANGELES|POINT (-118.45077...|\n",
      "|POINT (-118.2695 ...|      HOLLENBECK|POINT (-118.21306...|\n",
      "|POINT (-118.2695 ...|        WILSHIRE|POINT (-118.34282...|\n",
      "|POINT (-118.2695 ...|         OLYMPIC|POINT (-118.29117...|\n",
      "|POINT (-118.2695 ...|         RAMPART|POINT (-118.26697...|\n",
      "|POINT (-118.2695 ...|       HOLLYWOOD|POINT (-118.33066...|\n",
      "|POINT (-118.2695 ...|       NORTHEAST|POINT (-118.24941...|\n",
      "|POINT (-118.2695 ...| NORTH HOLLYWOOD|POINT (-118.38585...|\n",
      "|POINT (-118.2695 ...|        VAN NUYS|POINT (-118.44522...|\n",
      "|POINT (-118.2695 ...|     WEST VALLEY|POINT (-118.54745...|\n",
      "|POINT (-118.2695 ...|         TOPANGA|POINT (-118.59963...|\n",
      "|POINT (-118.2695 ...|        FOOTHILL|POINT (-118.41041...|\n",
      "|POINT (-118.2695 ...|      DEVONSHIRE|POINT (-118.53137...|\n",
      "+--------------------+----------------+--------------------+\n",
      "only showing top 20 rows\n",
      "\n",
      "65307480 65307480\n",
      "root\n",
      " |-- Crime_Location_Point: geometry (nullable = true)\n",
      " |-- Division: string (nullable = true)\n",
      " |-- PS_Location_Point: geometry (nullable = true)\n",
      " |-- Distance: double (nullable = true)\n",
      "\n",
      "+--------------------+----------------+--------------------+------------------+\n",
      "|Crime_Location_Point|        Division|   PS_Location_Point|          Distance|\n",
      "+--------------------+----------------+--------------------+------------------+\n",
      "|POINT (-118.2695 ...|          HARBOR|POINT (-118.28924...|25067.349236188526|\n",
      "|POINT (-118.2695 ...|       SOUTHEAST|POINT (-118.27539...| 4908.612980951572|\n",
      "|POINT (-118.2695 ...|     77TH STREET|POINT (-118.27766...| 1550.995117379447|\n",
      "|POINT (-118.2695 ...|         PACIFIC|POINT (-118.41984...| 13898.66156416122|\n",
      "|POINT (-118.2695 ...|       SOUTHWEST|POINT (-118.30514...|  4532.33007802887|\n",
      "|POINT (-118.2695 ...|          NEWTON|POINT (-118.25611...|3541.6055705417175|\n",
      "|POINT (-118.2695 ...|         CENTRAL|POINT (-118.24729...| 7140.293071103225|\n",
      "|POINT (-118.2695 ...|WEST LOS ANGELES|POINT (-118.45077...|18044.554465460802|\n",
      "|POINT (-118.2695 ...|      HOLLENBECK|POINT (-118.21306...| 8681.341464971325|\n",
      "|POINT (-118.2695 ...|        WILSHIRE|POINT (-118.34282...|    9834.492624103|\n",
      "|POINT (-118.2695 ...|         OLYMPIC|POINT (-118.29117...| 7789.408086788005|\n",
      "|POINT (-118.2695 ...|         RAMPART|POINT (-118.26697...| 8252.880134873812|\n",
      "|POINT (-118.2695 ...|       HOLLYWOOD|POINT (-118.33066...|13805.089256032601|\n",
      "|POINT (-118.2695 ...|       NORTHEAST|POINT (-118.24941...|15312.661652300729|\n",
      "|POINT (-118.2695 ...| NORTH HOLLYWOOD|POINT (-118.38585...| 23609.82153122959|\n",
      "|POINT (-118.2695 ...|        VAN NUYS|POINT (-118.44522...| 27615.99185213128|\n",
      "|POINT (-118.2695 ...|     WEST VALLEY|POINT (-118.54745...|34714.875277385494|\n",
      "|POINT (-118.2695 ...|         TOPANGA|POINT (-118.59963...| 40367.19284195251|\n",
      "|POINT (-118.2695 ...|        FOOTHILL|POINT (-118.41041...| 32765.75280278739|\n",
      "|POINT (-118.2695 ...|      DEVONSHIRE|POINT (-118.53137...|38891.845563163275|\n",
      "+--------------------+----------------+--------------------+------------------+\n",
      "only showing top 20 rows\n",
      "\n",
      "DataFrame[Crime_Location_Point: udt, Division: string, PS_Location_Point: udt, Distance: double]"
     ]
    }
   ],
   "source": [
    "# Cross join crime locations with police stations\n",
    "cross_join_df = crime_locations.crossJoin(police_stations)\n",
    "cross_join_df.printSchema()\n",
    "cross_join_df.show()\n",
    "print(cross_join_df.count(), crime_locations.count()*police_stations.count())\n",
    "\n",
    "# Calculate distances between crimes and police stations\n",
    "distance_df = cross_join_df.withColumn(\n",
    "    \"Distance\",\n",
    "    ST_DistanceSphere(\"Crime_Location_Point\", \"PS_Location_Point\")\n",
    ")\n",
    "\n",
    "distance_df.printSchema()\n",
    "distance_df.show()\n",
    "print(distance_df)"
   ]
  },
  {
   "cell_type": "markdown",
   "metadata": {},
   "source": [
    "##### So now we have all the distances of all crimes to all police stations. Next, we have to perform 2 group by operations:\n",
    "- Firstly, we have to group each crime to its nearest police station. That way, we will create a dataframe with each crime, one police station associated and the distance between the two (this is the minimum distance).\n",
    "- Then we have to group each police station to:\n",
    "  - The total number of crimes associated with it.\n",
    "  - The average distance of these crimes to this police station."
   ]
  },
  {
   "cell_type": "code",
   "execution_count": 12,
   "metadata": {
    "tags": []
   },
   "outputs": [
    {
     "data": {
      "application/vnd.jupyter.widget-view+json": {
       "model_id": "",
       "version_major": 2,
       "version_minor": 0
      },
      "text/plain": [
       "FloatProgress(value=0.0, bar_style='info', description='Progress:', layout=Layout(height='25px', width='50%'),…"
      ]
     },
     "metadata": {},
     "output_type": "display_data"
    },
    {
     "name": "stdout",
     "output_type": "stream",
     "text": [
      "+--------------------+---------+--------------------+------------------+--------------------+------------------+\n",
      "|Crime_Location_Point| Division|   PS_Location_Point|          Distance|Crime_Location_Point|      Min_Distance|\n",
      "+--------------------+---------+--------------------+------------------+--------------------+------------------+\n",
      "|POINT (-118.2339 ...|  CENTRAL|POINT (-118.24729...| 1254.374134066565|POINT (-118.2339 ...| 1254.374134066565|\n",
      "|POINT (-118.2917 ...|HOLLYWOOD|POINT (-118.33066...| 3729.455288788968|POINT (-118.2917 ...| 3729.455288788968|\n",
      "|POINT (-118.2755 ...|  RAMPART|POINT (-118.26697...|1333.1327248648129|POINT (-118.2755 ...|1333.1327248648129|\n",
      "|POINT (-118.2755 ...|  RAMPART|POINT (-118.26697...|1333.1327248648129|POINT (-118.2755 ...|1333.1327248648129|\n",
      "|POINT (-118.2917 ...|HOLLYWOOD|POINT (-118.33066...| 3729.455288788968|POINT (-118.2917 ...| 3729.455288788968|\n",
      "|POINT (-118.2755 ...|  RAMPART|POINT (-118.26697...|1333.1327248648129|POINT (-118.2755 ...|1333.1327248648129|\n",
      "|POINT (-118.2755 ...|  RAMPART|POINT (-118.26697...|1333.1327248648129|POINT (-118.2755 ...|1333.1327248648129|\n",
      "|POINT (-118.2917 ...|HOLLYWOOD|POINT (-118.33066...| 3729.455288788968|POINT (-118.2917 ...| 3729.455288788968|\n",
      "|POINT (-118.2755 ...|  RAMPART|POINT (-118.26697...|1333.1327248648129|POINT (-118.2755 ...|1333.1327248648129|\n",
      "|POINT (-118.2755 ...|  RAMPART|POINT (-118.26697...|1333.1327248648129|POINT (-118.2755 ...|1333.1327248648129|\n",
      "|POINT (-118.2755 ...|  RAMPART|POINT (-118.26697...|1333.1327248648129|POINT (-118.2755 ...|1333.1327248648129|\n",
      "|POINT (-118.2755 ...|  RAMPART|POINT (-118.26697...|1333.1327248648129|POINT (-118.2755 ...|1333.1327248648129|\n",
      "|POINT (-118.2755 ...|  RAMPART|POINT (-118.26697...|1333.1327248648129|POINT (-118.2755 ...|1333.1327248648129|\n",
      "|POINT (-118.2755 ...|  RAMPART|POINT (-118.26697...|1333.1327248648129|POINT (-118.2755 ...|1333.1327248648129|\n",
      "|POINT (-118.2917 ...|HOLLYWOOD|POINT (-118.33066...| 3729.455288788968|POINT (-118.2917 ...| 3729.455288788968|\n",
      "|POINT (-118.2755 ...|  RAMPART|POINT (-118.26697...|1333.1327248648129|POINT (-118.2755 ...|1333.1327248648129|\n",
      "|POINT (-118.2755 ...|  RAMPART|POINT (-118.26697...|1333.1327248648129|POINT (-118.2755 ...|1333.1327248648129|\n",
      "|POINT (-118.2755 ...|  RAMPART|POINT (-118.26697...|1333.1327248648129|POINT (-118.2755 ...|1333.1327248648129|\n",
      "|POINT (-118.2755 ...|  RAMPART|POINT (-118.26697...|1333.1327248648129|POINT (-118.2755 ...|1333.1327248648129|\n",
      "|POINT (-118.2755 ...|  RAMPART|POINT (-118.26697...|1333.1327248648129|POINT (-118.2755 ...|1333.1327248648129|\n",
      "+--------------------+---------+--------------------+------------------+--------------------+------------------+\n",
      "only showing top 20 rows\n",
      "\n",
      "+--------------------+---------+-----------------------+------------------+\n",
      "|Crime_Location_Point| division|Police_Station_Location|  Nearest_Distance|\n",
      "+--------------------+---------+-----------------------+------------------+\n",
      "|POINT (-118.2339 ...|  CENTRAL|   POINT (-118.24729...| 1254.374134066565|\n",
      "|POINT (-118.2917 ...|HOLLYWOOD|   POINT (-118.33066...| 3729.455288788968|\n",
      "|POINT (-118.2755 ...|  RAMPART|   POINT (-118.26697...|1333.1327248648129|\n",
      "|POINT (-118.2755 ...|  RAMPART|   POINT (-118.26697...|1333.1327248648129|\n",
      "|POINT (-118.2917 ...|HOLLYWOOD|   POINT (-118.33066...| 3729.455288788968|\n",
      "|POINT (-118.2755 ...|  RAMPART|   POINT (-118.26697...|1333.1327248648129|\n",
      "|POINT (-118.2755 ...|  RAMPART|   POINT (-118.26697...|1333.1327248648129|\n",
      "|POINT (-118.2917 ...|HOLLYWOOD|   POINT (-118.33066...| 3729.455288788968|\n",
      "|POINT (-118.2755 ...|  RAMPART|   POINT (-118.26697...|1333.1327248648129|\n",
      "|POINT (-118.2755 ...|  RAMPART|   POINT (-118.26697...|1333.1327248648129|\n",
      "|POINT (-118.2755 ...|  RAMPART|   POINT (-118.26697...|1333.1327248648129|\n",
      "|POINT (-118.2755 ...|  RAMPART|   POINT (-118.26697...|1333.1327248648129|\n",
      "|POINT (-118.2755 ...|  RAMPART|   POINT (-118.26697...|1333.1327248648129|\n",
      "|POINT (-118.2755 ...|  RAMPART|   POINT (-118.26697...|1333.1327248648129|\n",
      "|POINT (-118.2917 ...|HOLLYWOOD|   POINT (-118.33066...| 3729.455288788968|\n",
      "|POINT (-118.2755 ...|  RAMPART|   POINT (-118.26697...|1333.1327248648129|\n",
      "|POINT (-118.2755 ...|  RAMPART|   POINT (-118.26697...|1333.1327248648129|\n",
      "|POINT (-118.2755 ...|  RAMPART|   POINT (-118.26697...|1333.1327248648129|\n",
      "|POINT (-118.2755 ...|  RAMPART|   POINT (-118.26697...|1333.1327248648129|\n",
      "|POINT (-118.2755 ...|  RAMPART|   POINT (-118.26697...|1333.1327248648129|\n",
      "+--------------------+---------+-----------------------+------------------+\n",
      "only showing top 20 rows\n",
      "\n",
      "105060 3109880 3109880.0"
     ]
    }
   ],
   "source": [
    "from pyspark.sql.functions import col, min\n",
    "\n",
    "# Step 1: Compute the minimum distance for each crime location\n",
    "min_distance_df = distance_df.groupBy(\"Crime_Location_Point\").agg(\n",
    "    min(\"Distance\").alias(\"Min_Distance\")\n",
    ")\n",
    "\n",
    "# min_distance_df.show()\n",
    "\n",
    "# Step 2: Alias both DataFrames to avoid ambiguity\n",
    "distance_df_alias = distance_df.alias(\"d\")\n",
    "min_distance_df_alias = min_distance_df.alias(\"m\")\n",
    "\n",
    "# Step 3: Join the DataFrames on Crime_Location_Point and Distance\n",
    "nearest_station_df = distance_df_alias.join(\n",
    "    min_distance_df_alias,\n",
    "    (col(\"d.Crime_Location_Point\") == col(\"m.Crime_Location_Point\")) &\n",
    "    (col(\"d.Distance\") == col(\"m.Min_Distance\"))\n",
    ")\n",
    "\n",
    "nearest_station_df.show()\n",
    "\n",
    "nearest_station_df = nearest_station_df.select(\n",
    "    col(\"d.Crime_Location_Point\").alias(\"Crime_Location_Point\"),\n",
    "    col(\"d.Division\").alias(\"division\"),\n",
    "    col(\"d.PS_Location_Point\").alias(\"Police_Station_Location\"),\n",
    "    col(\"d.Distance\").alias(\"Nearest_Distance\")\n",
    ")\n",
    "\n",
    "# Step 4: Show the result\n",
    "nearest_station_df.show()\n",
    "\n",
    "print(min_distance_df.count(), nearest_station_df.count(), distance_df.count()/21)"
   ]
  },
  {
   "cell_type": "markdown",
   "metadata": {},
   "source": [
    "The min_distance dataframe groups each unique point to one police station, not each unique crime! A crime can be unique even if it is in the same Location Point as another one! So we join this dataframe with the distance dataframe which contains all the crimes, regardless of duplicate points. That way, each unique crime is mapped to its minimum distance and the police station division that corresponds to this minimum distance.\n",
    "\n",
    "We can verify that if we print the number of rows each dataset has:\n",
    "- minimum distance dataset has (105060) rows, hence (105060) unique crime locations (points).\n",
    "- distance dataframe has (21 times) x (3109880) rows, hence 3109880 x 21 rows.\n",
    "- nearest station dataframe has (3109880) rows, hence (3109880) unique crime locations. This is also the number of rows that our initial crime dataset has (crime_data_1)."
   ]
  },
  {
   "cell_type": "code",
   "execution_count": 13,
   "metadata": {
    "tags": []
   },
   "outputs": [
    {
     "data": {
      "application/vnd.jupyter.widget-view+json": {
       "model_id": "",
       "version_major": 2,
       "version_minor": 0
      },
      "text/plain": [
       "FloatProgress(value=0.0, bar_style='info', description='Progress:', layout=Layout(height='25px', width='50%'),…"
      ]
     },
     "metadata": {},
     "output_type": "display_data"
    },
    {
     "name": "stdout",
     "output_type": "stream",
     "text": [
      "+----------------+--------------+--------------------+\n",
      "|        Division|Total_Crimes_#|Average_Distance(km)|\n",
      "+----------------+--------------+--------------------+\n",
      "|       HOLLYWOOD|        224340|               2.076|\n",
      "|        VAN NUYS|        210134|               2.953|\n",
      "|       SOUTHWEST|        188901|               2.191|\n",
      "|        WILSHIRE|        185996|               2.593|\n",
      "|     77TH STREET|        171827|               1.717|\n",
      "|         OLYMPIC|        170897|               1.724|\n",
      "| NORTH HOLLYWOOD|        167854|               2.643|\n",
      "|         PACIFIC|        161359|               3.850|\n",
      "|         CENTRAL|        153871|               0.992|\n",
      "|         RAMPART|        152736|               1.535|\n",
      "|       SOUTHEAST|        152176|               2.422|\n",
      "|     WEST VALLEY|        138643|               3.036|\n",
      "|         TOPANGA|        138217|               3.297|\n",
      "|        FOOTHILL|        134896|               4.251|\n",
      "|          HARBOR|        126747|               3.703|\n",
      "|      HOLLENBECK|        115837|               2.680|\n",
      "|WEST LOS ANGELES|        115781|               2.792|\n",
      "|          NEWTON|        111110|               1.635|\n",
      "|       NORTHEAST|        108109|               3.624|\n",
      "|         MISSION|        103355|               3.691|\n",
      "|      DEVONSHIRE|         77094|               2.825|\n",
      "+----------------+--------------+--------------------+\n",
      "\n",
      "Execution time: 196.24 seconds"
     ]
    }
   ],
   "source": [
    "from pyspark.sql.functions import count, avg, format_number\n",
    "import time\n",
    "\n",
    "# Group by Division and aggregate both metrics\n",
    "result_df = nearest_station_df \\\n",
    "    .groupBy(\"Division\") \\\n",
    "    .agg( \\\n",
    "        count(\"*\").alias(\"Total_Crimes_#\"), \\\n",
    "        avg(\"Nearest_Distance\").alias(\"Average_Distance\") \\\n",
    "    ) \\\n",
    "    .withColumn(\"Average_Distance(km)\", format_number(col(\"Average_Distance\")/1000, 3)) \\\n",
    "    .drop(\"Average_Distance\") \\\n",
    "    .orderBy(col(\"Total_Crimes_#\").desc())\n",
    "\n",
    "# Show the result\n",
    "result_df.show(21)\n",
    "\n",
    "end_time = time.time()\n",
    "print(f\"Execution time: {end_time - start_time:.2f} seconds\")"
   ]
  },
  {
   "cell_type": "code",
   "execution_count": null,
   "metadata": {},
   "outputs": [],
   "source": []
  }
 ],
 "metadata": {
  "colab": {
   "provenance": [],
   "toc_visible": true
  },
  "kernelspec": {
   "display_name": "Sparkmagic (PySpark)",
   "language": "python",
   "name": "pysparkkernel"
  },
  "language_info": {
   "codemirror_mode": {
    "name": "python",
    "version": 3
   },
   "file_extension": ".py",
   "mimetype": "text/x-python",
   "name": "pyspark",
   "pygments_lexer": "python3"
  },
  "name": "SparkLab - Introduction to RDDs and DataFrames"
 },
 "nbformat": 4,
 "nbformat_minor": 4
}
